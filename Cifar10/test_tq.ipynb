{
 "cells": [
  {
   "cell_type": "code",
   "execution_count": 3,
   "metadata": {},
   "outputs": [],
   "source": [
    "import numpy as np\n",
    "import torch\n",
    "import torch.nn as nn\n",
    "import torch.optim as optim\n",
    "import torch.nn.functional as F\n",
    "import torch.backends.cudnn as cudnn\n",
    "import torchvision\n",
    "import torchvision.transforms as transforms\n",
    "import os\n",
    "import argparse\n",
    "from torch.utils.data.sampler import SubsetRandomSampler\n",
    "from models import *\n",
    "from utils import progress_bar\n",
    "from tqdm import tqdm"
   ]
  },
  {
   "cell_type": "code",
   "execution_count": 4,
   "metadata": {},
   "outputs": [
    {
     "name": "stdout",
     "output_type": "stream",
     "text": [
      "==> Preparing data..\n",
      "Files already downloaded and verified\n",
      "Files already downloaded and verified\n",
      "Files already downloaded and verified\n",
      "==> Building model..\n"
     ]
    },
    {
     "name": "stderr",
     "output_type": "stream",
     "text": [
      "  0%|          | 0/5 [00:00<?, ?it/s]"
     ]
    },
    {
     "name": "stdout",
     "output_type": "stream",
     "text": [
      "\n",
      "Epoch: 0\n",
      " [================================================================>]  Step: 37ms | Tot: 16s565ms | Loss: 1.751 | Acc: 37.530% (15012/4000 313/313 ===========================>...................................]  Step: 54ms | Tot: 7s413ms | Loss: 1.923 | Acc: 31.189% (5629/1804 141/313 \n",
      " [================================================================>]  Step: 16ms | Tot: 2s505 79/79 \n",
      "Saving..\n",
      "validation Accuracy:  44.05\n",
      " [================================================================>]  Step: 15ms | Tot: 2s164 100/100 \n"
     ]
    },
    {
     "name": "stderr",
     "output_type": "stream",
     "text": [
      " 20%|██        | 1/5 [00:39<02:36, 39.09s/it]"
     ]
    },
    {
     "name": "stdout",
     "output_type": "stream",
     "text": [
      "Saving..\n",
      "testing Accuracy:  47.45\n",
      "\n",
      "Epoch: 1\n",
      " [================================================================>]  Step: 35ms | Tot: 18s591ms | Loss: 1.464 | Acc: 48.545% (19418/4000 313/313  ==========================================>......................]  Step: 53ms | Tot: 12s561ms | Loss: 1.515 | Acc: 46.894% (12485/2662 208/313 \n",
      " [================================================================>]  Step: 14ms | Tot: 2s251 79/79 ==============================>.................................]  Step: 30ms | Tot: 1s79 39/79 =============================================>...................]  Step: 21ms | Tot: 1s591 56/79 \n",
      "Saving..\n",
      "validation Accuracy:  49.92\n",
      " [================================================================>]  Step: 14ms | Tot: 2s55 100/100 \n"
     ]
    },
    {
     "name": "stderr",
     "output_type": "stream",
     "text": [
      " 40%|████      | 2/5 [01:19<01:59, 39.87s/it]"
     ]
    },
    {
     "name": "stdout",
     "output_type": "stream",
     "text": [
      "Saving..\n",
      "testing Accuracy:  51.85\n",
      "\n",
      "Epoch: 2\n",
      " [================================================================>]  Step: 33ms | Tot: 17s7ms | Loss: 1.258 | Acc: 55.337% (22135/4000 313/313 3 \n",
      " [================================================================>]  Step: 16ms | Tot: 2s112 79/79 ===>..........................................................]  Step: 21ms | Tot: 275 9/79 \n",
      "Saving..\n",
      "validation Accuracy:  57.1\n",
      " [================================================================>]  Step: 14ms | Tot: 2s59 100/100 \n"
     ]
    },
    {
     "name": "stderr",
     "output_type": "stream",
     "text": [
      " 60%|██████    | 3/5 [01:57<01:18, 39.20s/it]"
     ]
    },
    {
     "name": "stdout",
     "output_type": "stream",
     "text": [
      "Saving..\n",
      "testing Accuracy:  59.27\n",
      "\n",
      "Epoch: 3\n",
      " [================================================================>]  Step: 45ms | Tot: 16s865ms | Loss: 1.136 | Acc: 59.688% (23875/4000 313/313 =======>.....................................................]  Step: 52ms | Tot: 3s113ms | Loss: 1.182 | Acc: 58.347% (4257/729 57/313 ===========================>.....................................]  Step: 50ms | Tot: 7s339ms | Loss: 1.157 | Acc: 58.687% (10066/1715 134/313 ======================================================>..........]  Step: 52ms | Tot: 14s338ms | Loss: 1.146 | Acc: 59.228% (20090/3392 265/313 \n",
      " [================================================================>]  Step: 18ms | Tot: 2s236 79/79 ========================>......................................]  Step: 37ms | Tot: 956 33/79 \n",
      "Saving..\n",
      "validation Accuracy:  60.15\n",
      " [================================================================>]  Step: 17ms | Tot: 2s34 100/100 ====================>..........................................]  Step: 28ms | Tot: 772 36/100 \n"
     ]
    },
    {
     "name": "stderr",
     "output_type": "stream",
     "text": [
      " 80%|████████  | 4/5 [02:36<00:38, 38.90s/it]"
     ]
    },
    {
     "name": "stdout",
     "output_type": "stream",
     "text": [
      "Saving..\n",
      "testing Accuracy:  62.43\n",
      "\n",
      "Epoch: 4\n",
      " [================================================================>]  Step: 36ms | Tot: 16s732ms | Loss: 1.043 | Acc: 62.883% (25153/4000 313/313 \n",
      " [================================================================>]  Step: 15ms | Tot: 2s187 79/79 \n",
      "Saving..\n",
      "validation Accuracy:  64.27\n",
      " [================================================================>]  Step: 18ms | Tot: 2s238 100/100 \n"
     ]
    },
    {
     "name": "stderr",
     "output_type": "stream",
     "text": [
      "100%|██████████| 5/5 [03:14<00:00, 38.99s/it]"
     ]
    },
    {
     "name": "stdout",
     "output_type": "stream",
     "text": [
      "Saving..\n",
      "testing Accuracy:  66.05\n"
     ]
    },
    {
     "name": "stderr",
     "output_type": "stream",
     "text": [
      "\n"
     ]
    }
   ],
   "source": [
    "parser = argparse.ArgumentParser(description='PyTorch CIFAR10 Training')\n",
    "#change the below default value  to tune hyper parameters\n",
    "parser.add_argument('--lr', default= .01, type=float, help='learning rate')\n",
    "parser.add_argument('--resume', '-r', action='store_true', help='resume from checkpoint')\n",
    "args = parser.parse_args(args=[])\n",
    "\n",
    "\n",
    "device = 'cuda' if torch.cuda.is_available() else 'cpu'\n",
    "best_acc = 0  # best test accuracy\n",
    "start_epoch = 0  # start from epoch 0 or last checkpoint epoch\n",
    "\n",
    "# Data\n",
    "print('==> Preparing data..')\n",
    "transform_train = transforms.Compose([\n",
    "    transforms.RandomCrop(32, padding=4),\n",
    "    transforms.RandomHorizontalFlip(),\n",
    "    transforms.ToTensor(),\n",
    "    transforms.Normalize((0.4914, 0.4822, 0.4465), (0.2023, 0.1994, 0.2010)),\n",
    "])\n",
    "\n",
    "transform_val = transforms.Compose([\n",
    "    transforms.RandomCrop(32, padding=4),\n",
    "    transforms.RandomHorizontalFlip(),\n",
    "    transforms.ToTensor(),\n",
    "    transforms.Normalize((0.4914, 0.4822, 0.4465), (0.2023, 0.1994, 0.2010)),\n",
    "])\n",
    "\n",
    "\n",
    "transform_test = transforms.Compose([\n",
    "    transforms.ToTensor(),\n",
    "    transforms.Normalize((0.4914, 0.4822, 0.4465), (0.2023, 0.1994, 0.2010)),\n",
    "])\n",
    "\n",
    "\n",
    "train_dataset = torchvision.datasets.CIFAR10(root='./data', train=True, download=True, transform=transform_train)\n",
    "val_dataset = torchvision.datasets.CIFAR10(root='./data', train=True, download=True, transform=transform_val)\n",
    "\n",
    "\n",
    "num_train = len(train_dataset)\n",
    "indices = list(range(num_train))\n",
    "split = int(np.floor(0.2 * num_train))\n",
    "train_idx, valid_idx = indices[split:], indices[:split]\n",
    "train_sampler = SubsetRandomSampler(train_idx)\n",
    "valid_sampler = SubsetRandomSampler(valid_idx)\n",
    "\n",
    "\n",
    "\n",
    "trainloader = torch.utils.data.DataLoader(train_dataset, batch_size=128, num_workers=2, sampler= train_sampler)\n",
    "valloader = torch.utils.data.DataLoader(val_dataset, batch_size=128,  num_workers=2, sampler=valid_sampler)\n",
    "testset = torchvision.datasets.CIFAR10(root='./data', train=False, download=True, transform=transform_test)\n",
    "testloader = torch.utils.data.DataLoader(testset, batch_size=100, shuffle=False, num_workers=2)\n",
    "\n",
    "\n",
    "classes = ('plane', 'car', 'bird', 'cat', 'deer', 'dog', 'frog', 'horse', 'ship', 'truck')\n",
    "\n",
    "# Model\n",
    "print('==> Building model..')\n",
    "net = VGG('VGG13')\n",
    "#net = LeNet()\n",
    "#net = ResNet18()\n",
    "#net = PreActResNet18()\n",
    "#net = GoogLeNet()\n",
    "# net = DenseNet121()\n",
    "# net = ResNeXt29_2x64d()\n",
    "# net = MobileNet()\n",
    "# net = MobileNetV2()\n",
    "# net = DPN92()\n",
    "# net = ShuffleNetG2()\n",
    "#net = SENet18()\n",
    "# net = ShuffleNetV2(1)\n",
    "net = EfficientNetB0()\n",
    "net = net.to(device)\n",
    "if device == 'cuda':\n",
    "    net = torch.nn.DataParallel(net)\n",
    "    cudnn.benchmark = True\n",
    "\n",
    "if args.resume:\n",
    "    # Load checkpoint.\n",
    "    print('==> Resuming from checkpoint..')\n",
    "    assert os.path.isdir('checkpoint'), 'Error: no checkpoint directory found!'\n",
    "    checkpoint = torch.load('./checkpoint/ckpt_tqdm.pth')\n",
    "    net.load_state_dict(checkpoint['net'])\n",
    "    best_acc = checkpoint['acc']\n",
    "    start_epoch = checkpoint['epoch']\n",
    "\n",
    "criterion = nn.CrossEntropyLoss()\n",
    "optimizer = optim.SGD(net.parameters(), lr=args.lr, momentum=0.9, weight_decay=5e-4)\n",
    "\n",
    "\n",
    "\n",
    "# Training\n",
    "def train(epoch):\n",
    "    print('\\nEpoch: %d' % epoch)\n",
    "    net.train()\n",
    "    train_loss = 0\n",
    "    correct = 0\n",
    "    total = 0\n",
    "    for batch_idx, (inputs, targets) in enumerate(trainloader):\n",
    "        inputs, targets = inputs.to(device), targets.to(device)\n",
    "        optimizer.zero_grad()\n",
    "        outputs = net(inputs)\n",
    "        loss = criterion(outputs, targets)\n",
    "        loss.backward()\n",
    "        optimizer.step()\n",
    "\n",
    "        train_loss += loss.item()\n",
    "        _, predicted = outputs.max(1)\n",
    "        total += targets.size(0)\n",
    "        correct += predicted.eq(targets).sum().item()\n",
    "\n",
    "        progress_bar(batch_idx, len(trainloader), 'Loss: %.3f | Acc: %.3f%% (%d/%d)'\n",
    "            % (train_loss/(batch_idx+1), 100.*correct/total, correct, total))\n",
    "#testing\n",
    "def test(epoch):\n",
    "    global best_acc\n",
    "    net.eval()\n",
    "    test_loss = 0\n",
    "    correct = 0\n",
    "    total = 0\n",
    "    with torch.no_grad():\n",
    "        for batch_idx, (inputs, targets) in enumerate(testloader):\n",
    "            inputs, targets = inputs.to(device), targets.to(device)\n",
    "            outputs = net(inputs)\n",
    "            loss = criterion(outputs, targets)\n",
    "\n",
    "            test_loss += loss.item()\n",
    "            _, predicted = outputs.max(1)\n",
    "            total += targets.size(0)\n",
    "            correct += predicted.eq(targets).sum().item()\n",
    "            #print('entering')\n",
    "            progress_bar(batch_idx, len(testloader))\n",
    "            \n",
    "\n",
    "    # Save checkpoint.\n",
    "    acc = 100.*correct/total\n",
    "    if acc > best_acc:\n",
    "        print('Saving..')\n",
    "        state = {\n",
    "            'net': net.state_dict(),\n",
    "            'acc': acc,\n",
    "            'epoch': epoch,\n",
    "        }\n",
    "        if not os.path.isdir('checkpoint'):\n",
    "            os.mkdir('checkpoint')\n",
    "        torch.save(state, './checkpoint/ckpt_tqdm.pth')\n",
    "        best_acc = acc\n",
    "        print('testing Accuracy: ', best_acc)\n",
    "\n",
    "#validation\n",
    "def validation(epoch):\n",
    "    best_acc_val = 0\n",
    "    net.eval()\n",
    "    val_loss = 0\n",
    "    correct = 0\n",
    "    total = 0\n",
    "    with torch.no_grad():\n",
    "        for batch_idx, (inputs, targets) in enumerate(valloader):\n",
    "            inputs, targets = inputs.to(device), targets.to(device)\n",
    "            outputs = net(inputs)\n",
    "            loss = criterion(outputs, targets)\n",
    "            val_loss += loss.item()\n",
    "            _, predicted = outputs.max(1)\n",
    "            total += targets.size(0)\n",
    "            correct += predicted.eq(targets).sum().item()\n",
    "            #print('entering')\n",
    "            progress_bar(batch_idx, len(valloader))\n",
    "            \n",
    "    # Save checkpoint.\n",
    "    acc_val = 100.*correct/total\n",
    "    if acc_val > best_acc_val :\n",
    "        print('Saving..')\n",
    "        state = {\n",
    "            'net': net.state_dict(),\n",
    "            'acc': acc_val,\n",
    "            'epoch': epoch,\n",
    "        }\n",
    "        best_acc_val = acc_val\n",
    "        print('validation Accuracy: ', best_acc_val)\n",
    "\n",
    "for epoch in tqdm(range(start_epoch, start_epoch+5)):\n",
    "    train(epoch)\n",
    "    validation(epoch)\n",
    "    test(epoch)\n"
   ]
  },
  {
   "cell_type": "code",
   "execution_count": null,
   "metadata": {},
   "outputs": [],
   "source": []
  }
 ],
 "metadata": {
  "kernelspec": {
   "display_name": "vs",
   "language": "python",
   "name": "python3"
  },
  "language_info": {
   "codemirror_mode": {
    "name": "ipython",
    "version": 3
   },
   "file_extension": ".py",
   "mimetype": "text/x-python",
   "name": "python",
   "nbconvert_exporter": "python",
   "pygments_lexer": "ipython3",
   "version": "3.9.16"
  },
  "orig_nbformat": 4
 },
 "nbformat": 4,
 "nbformat_minor": 2
}
