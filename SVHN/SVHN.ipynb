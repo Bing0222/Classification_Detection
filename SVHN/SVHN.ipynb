{
 "cells": [
  {
   "cell_type": "markdown",
   "id": "f99a9944",
   "metadata": {},
   "source": [
    "# SVHN Project"
   ]
  },
  {
   "cell_type": "markdown",
   "id": "03ff219c",
   "metadata": {},
   "source": [
    "- Using SVHN as an example, using deep learning how to implement a project completely. In this project I as far as possible implement this project based on all mastered knowledge. \n",
    "\n",
    "- Although building the project maybe too complex, based on aim of learning and showing, i still add more and more steps in this project."
   ]
  },
  {
   "cell_type": "markdown",
   "id": "751a0e36",
   "metadata": {},
   "source": [
    "## Import libraries"
   ]
  },
  {
   "cell_type": "code",
   "execution_count": 1,
   "id": "c4048187",
   "metadata": {
    "ExecuteTime": {
     "end_time": "2023-01-19T18:43:56.125031Z",
     "start_time": "2023-01-19T18:43:54.932374Z"
    }
   },
   "outputs": [],
   "source": [
    "import gc  # garbage collector\n",
    "import random\n",
    "from time import time\n",
    "import matplotlib.pyplot as plt\n",
    "import pandas as pd\n",
    "import numpy as np\n",
    "import datetime\n",
    "from torch.utils.data import DataLoader\n",
    "from torchvision import models as m\n",
    "from torchvision import transforms as T\n",
    "from torch.nn import functional as F\n",
    "from torch import nn, optim\n",
    "import torchvision\n",
    "import os\n",
    "import torch\n",
    "# Used to avoid sudden shutdown of the jupyter environment\n",
    "os.environ['KMP_DUPLICATE_LIB_OK'] = 'True'\n",
    "torch.backends.cudnn.benchmark = True  # Code for accelerating GPU operations"
   ]
  },
  {
   "cell_type": "code",
   "execution_count": 2,
   "id": "310960e0",
   "metadata": {
    "ExecuteTime": {
     "end_time": "2023-01-19T18:44:07.305031Z",
     "start_time": "2023-01-19T18:44:07.294811Z"
    }
   },
   "outputs": [],
   "source": [
    "torch.manual_seed(1412)\n",
    "random.seed(1412)\n",
    "np.random.seed(1412)"
   ]
  },
  {
   "cell_type": "code",
   "execution_count": 4,
   "id": "78bd6567",
   "metadata": {
    "ExecuteTime": {
     "end_time": "2023-01-19T18:44:19.209084Z",
     "start_time": "2023-01-19T18:44:19.200000Z"
    }
   },
   "outputs": [
    {
     "data": {
      "text/plain": [
       "device(type='cuda')"
      ]
     },
     "execution_count": 4,
     "metadata": {},
     "output_type": "execute_result"
    }
   ],
   "source": [
    "# checking devices\n",
    "device = torch.device('cuda' if torch.cuda.is_available() else 'cpu')\n",
    "device"
   ]
  },
  {
   "cell_type": "markdown",
   "id": "535e285e",
   "metadata": {},
   "source": [
    "## Generate data and Process data"
   ]
  },
  {
   "cell_type": "code",
   "execution_count": 5,
   "id": "fa0e9441",
   "metadata": {
    "ExecuteTime": {
     "end_time": "2023-01-19T18:45:21.626350Z",
     "start_time": "2023-01-19T18:45:19.685581Z"
    }
   },
   "outputs": [],
   "source": [
    "# load train dataset\n",
    "train = torchvision.datasets.SVHN(root=r\"E:\\data\\SVHN\\SVHN\", split=\"train\", download=False, transform=T.ToTensor()\n",
    "                                  )"
   ]
  },
  {
   "cell_type": "code",
   "execution_count": 6,
   "id": "15bc6b72",
   "metadata": {
    "ExecuteTime": {
     "end_time": "2023-01-19T18:45:28.763640Z",
     "start_time": "2023-01-19T18:45:28.696275Z"
    }
   },
   "outputs": [
    {
     "data": {
      "text/plain": [
       "tensor([[[0.3255, 0.3294, 0.3294,  ..., 0.5843, 0.5882, 0.5961],\n",
       "         [0.3373, 0.3333, 0.3294,  ..., 0.5882, 0.5686, 0.5725],\n",
       "         [0.3451, 0.3373, 0.3255,  ..., 0.5490, 0.5294, 0.5294],\n",
       "         ...,\n",
       "         [0.3373, 0.3137, 0.3216,  ..., 0.2235, 0.2588, 0.2667],\n",
       "         [0.3412, 0.3137, 0.3255,  ..., 0.2510, 0.3020, 0.3059],\n",
       "         [0.3373, 0.3176, 0.3216,  ..., 0.2667, 0.3294, 0.3255]],\n",
       "\n",
       "        [[0.2667, 0.2706, 0.2706,  ..., 0.5529, 0.5529, 0.5608],\n",
       "         [0.2784, 0.2745, 0.2706,  ..., 0.5608, 0.5451, 0.5490],\n",
       "         [0.2863, 0.2784, 0.2667,  ..., 0.5255, 0.5098, 0.5098],\n",
       "         ...,\n",
       "         [0.2784, 0.2549, 0.2588,  ..., 0.2431, 0.2784, 0.2941],\n",
       "         [0.2824, 0.2510, 0.2627,  ..., 0.2627, 0.3137, 0.3255],\n",
       "         [0.2784, 0.2549, 0.2588,  ..., 0.2745, 0.3412, 0.3451]],\n",
       "\n",
       "        [[0.1843, 0.1804, 0.1882,  ..., 0.5098, 0.5176, 0.5255],\n",
       "         [0.1882, 0.1843, 0.1882,  ..., 0.5216, 0.5137, 0.5176],\n",
       "         [0.1961, 0.1882, 0.1843,  ..., 0.5059, 0.4980, 0.5020],\n",
       "         ...,\n",
       "         [0.1961, 0.1804, 0.2000,  ..., 0.2863, 0.3216, 0.3255],\n",
       "         [0.2078, 0.1882, 0.2039,  ..., 0.3098, 0.3490, 0.3451],\n",
       "         [0.2039, 0.1922, 0.2000,  ..., 0.3216, 0.3765, 0.3608]]])"
      ]
     },
     "execution_count": 6,
     "metadata": {},
     "output_type": "execute_result"
    }
   ],
   "source": [
    "train[6][0]"
   ]
  },
  {
   "cell_type": "code",
   "execution_count": 7,
   "id": "a963e812",
   "metadata": {
    "ExecuteTime": {
     "end_time": "2023-01-19T18:45:43.833037Z",
     "start_time": "2023-01-19T18:45:43.150197Z"
    }
   },
   "outputs": [],
   "source": [
    "# load test dataset\n",
    "test = torchvision.datasets.SVHN(\n",
    "    root=r\"E:\\data\\SVHN\\SVHN\", split=\"test\", download=False, transform=T.ToTensor())"
   ]
  },
  {
   "cell_type": "code",
   "execution_count": 8,
   "id": "c1c5ebf0",
   "metadata": {
    "ExecuteTime": {
     "end_time": "2023-01-19T18:45:50.888566Z",
     "start_time": "2023-01-19T18:45:50.874921Z"
    }
   },
   "outputs": [
    {
     "data": {
      "text/plain": [
       "Dataset SVHN\n",
       "    Number of datapoints: 73257\n",
       "    Root location: E:\\data\\SVHN\\SVHN\n",
       "    Split: train\n",
       "    StandardTransform\n",
       "Transform: ToTensor()"
      ]
     },
     "execution_count": 8,
     "metadata": {},
     "output_type": "execute_result"
    }
   ],
   "source": [
    "train"
   ]
  },
  {
   "cell_type": "code",
   "execution_count": 9,
   "id": "f67bc0f9",
   "metadata": {
    "ExecuteTime": {
     "end_time": "2023-01-19T18:45:55.580759Z",
     "start_time": "2023-01-19T18:45:55.566332Z"
    }
   },
   "outputs": [
    {
     "data": {
      "text/plain": [
       "Dataset SVHN\n",
       "    Number of datapoints: 26032\n",
       "    Root location: E:\\data\\SVHN\\SVHN\n",
       "    Split: test\n",
       "    StandardTransform\n",
       "Transform: ToTensor()"
      ]
     },
     "execution_count": 9,
     "metadata": {},
     "output_type": "execute_result"
    }
   ],
   "source": [
    "test"
   ]
  },
  {
   "cell_type": "code",
   "execution_count": 10,
   "id": "2bb6ea75",
   "metadata": {
    "ExecuteTime": {
     "end_time": "2023-01-19T18:46:09.636210Z",
     "start_time": "2023-01-19T18:46:09.615062Z"
    }
   },
   "outputs": [],
   "source": [
    "# Let each data set display 5 images at random\n",
    "def plotsample(data):  # 只能够接受tensor格式的图像\n",
    "    fig, axs = plt.subplots(1, 5, figsize=(10, 10))  # 建立子图\n",
    "    for i in range(5):\n",
    "        num = random.randint(0, len(data)-1)  # 首先选取随机数，随机选取五次\n",
    "        # 抽取数据中对应的图像对象，make_grid函数可将任意格式的图像的通道数升为3，而不改变图像原始的数据\n",
    "        # 而展示图像用的imshow函数最常见的输入格式也是3通道\n",
    "        npimg = torchvision.utils.make_grid(data[num][0]).numpy()\n",
    "        nplabel = data[num][1]  # 提取标签\n",
    "        # 将图像由(3, weight, height)转化为(weight, height, 3)，并放入imshow函数中读取\n",
    "        axs[i].imshow(np.transpose(npimg, (1, 2, 0)))\n",
    "        axs[i].set_title(nplabel)  # 给每个子图加上标签\n",
    "        axs[i].axis(\"off\")  # 消除每个子图的坐标轴"
   ]
  },
  {
   "cell_type": "code",
   "execution_count": 11,
   "id": "aef7d8ad",
   "metadata": {
    "ExecuteTime": {
     "end_time": "2023-01-19T18:46:14.868172Z",
     "start_time": "2023-01-19T18:46:14.726653Z"
    }
   },
   "outputs": [
    {
     "data": {
      "image/png": "[encoded data removed]",
      "text/plain": [
       "<Figure size 1000x1000 with 5 Axes>"
      ]
     },
     "metadata": {},
     "output_type": "display_data"
    }
   ],
   "source": [
    "plotsample(train)"
   ]
  },
  {
   "cell_type": "code",
   "execution_count": 12,
   "id": "c784cd64",
   "metadata": {
    "ExecuteTime": {
     "end_time": "2023-01-19T18:46:18.793371Z",
     "start_time": "2023-01-19T18:46:18.692325Z"
    }
   },
   "outputs": [
    {
     "data": {
      "image/png": "[encoded data removed]",
      "text/plain": [
       "<Figure size 1000x1000 with 5 Axes>"
      ]
     },
     "metadata": {},
     "output_type": "display_data"
    }
   ],
   "source": [
    "plotsample(test)"
   ]
  },
  {
   "cell_type": "code",
   "execution_count": 13,
   "id": "01fe48f8",
   "metadata": {
    "ExecuteTime": {
     "end_time": "2023-01-19T18:46:31.380331Z",
     "start_time": "2023-01-19T18:46:31.363244Z"
    }
   },
   "outputs": [],
   "source": [
    "# Augmentation train data\n",
    "trainT = T.Compose([T.RandomCrop(28), T.RandomRotation(degrees=[-30, 30]), T.ToTensor(),\n",
    "                   T.Normalize(mean=[0.485, 0.456, 0.406], std=[0.229, 0.224, 0.225])])"
   ]
  },
  {
   "cell_type": "code",
   "execution_count": 14,
   "id": "24593462",
   "metadata": {
    "ExecuteTime": {
     "end_time": "2023-01-19T18:46:37.008044Z",
     "start_time": "2023-01-19T18:46:37.003023Z"
    }
   },
   "outputs": [],
   "source": [
    "# Augmentation test data\n",
    "testT = T.Compose([T.CenterCrop(28), T.ToTensor(), T.Normalize(\n",
    "    mean=[0.485, 0.456, 0.406], std=[0.229, 0.224, 0.225])])"
   ]
  },
  {
   "cell_type": "code",
   "execution_count": 15,
   "id": "292dc072",
   "metadata": {
    "ExecuteTime": {
     "end_time": "2023-01-19T18:47:06.799898Z",
     "start_time": "2023-01-19T18:47:05.184203Z"
    }
   },
   "outputs": [],
   "source": [
    "train = torchvision.datasets.SVHN(root=r\"E:\\data\\SVHN\\SVHN\", split=\"train\", download=False, transform=trainT\n",
    "                                  )"
   ]
  },
  {
   "cell_type": "code",
   "execution_count": 16,
   "id": "28286dd4",
   "metadata": {
    "ExecuteTime": {
     "end_time": "2023-01-19T18:47:17.308654Z",
     "start_time": "2023-01-19T18:47:16.742071Z"
    }
   },
   "outputs": [],
   "source": [
    "test = torchvision.datasets.SVHN(root=r\"E:\\data\\SVHN\\SVHN\", split=\"test\", download=False, transform=testT\n",
    "                                 )"
   ]
  },
  {
   "cell_type": "code",
   "execution_count": 17,
   "id": "bf3a6c68",
   "metadata": {
    "ExecuteTime": {
     "end_time": "2023-01-19T18:47:21.382880Z",
     "start_time": "2023-01-19T18:47:21.247564Z"
    }
   },
   "outputs": [
    {
     "name": "stderr",
     "output_type": "stream",
     "text": [
      "Clipping input data to the valid range for imshow with RGB data ([0..1] for floats or [0..255] for integers).\n",
      "Clipping input data to the valid range for imshow with RGB data ([0..1] for floats or [0..255] for integers).\n",
      "Clipping input data to the valid range for imshow with RGB data ([0..1] for floats or [0..255] for integers).\n",
      "Clipping input data to the valid range for imshow with RGB data ([0..1] for floats or [0..255] for integers).\n",
      "Clipping input data to the valid range for imshow with RGB data ([0..1] for floats or [0..255] for integers).\n"
     ]
    },
    {
     "data": {
      "image/png": "[encoded data removed]",
      "text/plain": [
       "<Figure size 1000x1000 with 5 Axes>"
      ]
     },
     "metadata": {},
     "output_type": "display_data"
    }
   ],
   "source": [
    "plotsample(train)"
   ]
  },
  {
   "cell_type": "markdown",
   "id": "d06eb9f5",
   "metadata": {},
   "source": [
    "## Building Models"
   ]
  },
  {
   "cell_type": "markdown",
   "id": "7c947314",
   "metadata": {},
   "source": [
    "- Due to small dataset (Comparatively shallow, overall low number of participants)\n",
    "- I choose ResNet18, VGG16"
   ]
  },
  {
   "cell_type": "code",
   "execution_count": 18,
   "id": "436941da",
   "metadata": {
    "ExecuteTime": {
     "end_time": "2023-01-19T18:47:42.637935Z",
     "start_time": "2023-01-19T18:47:40.995229Z"
    }
   },
   "outputs": [],
   "source": [
    "torch.manual_seed(1412)\n",
    "resnet18_ = m.resnet18()\n",
    "vgg16_ = m.vgg16()  # VGG本来参数量就很大，因此我个人较少使用vgg16_bn"
   ]
  },
  {
   "cell_type": "code",
   "execution_count": 19,
   "id": "9b66fdab",
   "metadata": {
    "ExecuteTime": {
     "end_time": "2023-01-19T18:47:45.505252Z",
     "start_time": "2023-01-19T18:47:45.485198Z"
    }
   },
   "outputs": [
    {
     "data": {
      "text/plain": [
       "ResNet(\n",
       "  (conv1): Conv2d(3, 64, kernel_size=(7, 7), stride=(2, 2), padding=(3, 3), bias=False)\n",
       "  (bn1): BatchNorm2d(64, eps=1e-05, momentum=0.1, affine=True, track_running_stats=True)\n",
       "  (relu): ReLU(inplace=True)\n",
       "  (maxpool): MaxPool2d(kernel_size=3, stride=2, padding=1, dilation=1, ceil_mode=False)\n",
       "  (layer1): Sequential(\n",
       "    (0): BasicBlock(\n",
       "      (conv1): Conv2d(64, 64, kernel_size=(3, 3), stride=(1, 1), padding=(1, 1), bias=False)\n",
       "      (bn1): BatchNorm2d(64, eps=1e-05, momentum=0.1, affine=True, track_running_stats=True)\n",
       "      (relu): ReLU(inplace=True)\n",
       "      (conv2): Conv2d(64, 64, kernel_size=(3, 3), stride=(1, 1), padding=(1, 1), bias=False)\n",
       "      (bn2): BatchNorm2d(64, eps=1e-05, momentum=0.1, affine=True, track_running_stats=True)\n",
       "    )\n",
       "    (1): BasicBlock(\n",
       "      (conv1): Conv2d(64, 64, kernel_size=(3, 3), stride=(1, 1), padding=(1, 1), bias=False)\n",
       "      (bn1): BatchNorm2d(64, eps=1e-05, momentum=0.1, affine=True, track_running_stats=True)\n",
       "      (relu): ReLU(inplace=True)\n",
       "      (conv2): Conv2d(64, 64, kernel_size=(3, 3), stride=(1, 1), padding=(1, 1), bias=False)\n",
       "      (bn2): BatchNorm2d(64, eps=1e-05, momentum=0.1, affine=True, track_running_stats=True)\n",
       "    )\n",
       "  )\n",
       "  (layer2): Sequential(\n",
       "    (0): BasicBlock(\n",
       "      (conv1): Conv2d(64, 128, kernel_size=(3, 3), stride=(2, 2), padding=(1, 1), bias=False)\n",
       "      (bn1): BatchNorm2d(128, eps=1e-05, momentum=0.1, affine=True, track_running_stats=True)\n",
       "      (relu): ReLU(inplace=True)\n",
       "      (conv2): Conv2d(128, 128, kernel_size=(3, 3), stride=(1, 1), padding=(1, 1), bias=False)\n",
       "      (bn2): BatchNorm2d(128, eps=1e-05, momentum=0.1, affine=True, track_running_stats=True)\n",
       "      (downsample): Sequential(\n",
       "        (0): Conv2d(64, 128, kernel_size=(1, 1), stride=(2, 2), bias=False)\n",
       "        (1): BatchNorm2d(128, eps=1e-05, momentum=0.1, affine=True, track_running_stats=True)\n",
       "      )\n",
       "    )\n",
       "    (1): BasicBlock(\n",
       "      (conv1): Conv2d(128, 128, kernel_size=(3, 3), stride=(1, 1), padding=(1, 1), bias=False)\n",
       "      (bn1): BatchNorm2d(128, eps=1e-05, momentum=0.1, affine=True, track_running_stats=True)\n",
       "      (relu): ReLU(inplace=True)\n",
       "      (conv2): Conv2d(128, 128, kernel_size=(3, 3), stride=(1, 1), padding=(1, 1), bias=False)\n",
       "      (bn2): BatchNorm2d(128, eps=1e-05, momentum=0.1, affine=True, track_running_stats=True)\n",
       "    )\n",
       "  )\n",
       "  (layer3): Sequential(\n",
       "    (0): BasicBlock(\n",
       "      (conv1): Conv2d(128, 256, kernel_size=(3, 3), stride=(2, 2), padding=(1, 1), bias=False)\n",
       "      (bn1): BatchNorm2d(256, eps=1e-05, momentum=0.1, affine=True, track_running_stats=True)\n",
       "      (relu): ReLU(inplace=True)\n",
       "      (conv2): Conv2d(256, 256, kernel_size=(3, 3), stride=(1, 1), padding=(1, 1), bias=False)\n",
       "      (bn2): BatchNorm2d(256, eps=1e-05, momentum=0.1, affine=True, track_running_stats=True)\n",
       "      (downsample): Sequential(\n",
       "        (0): Conv2d(128, 256, kernel_size=(1, 1), stride=(2, 2), bias=False)\n",
       "        (1): BatchNorm2d(256, eps=1e-05, momentum=0.1, affine=True, track_running_stats=True)\n",
       "      )\n",
       "    )\n",
       "    (1): BasicBlock(\n",
       "      (conv1): Conv2d(256, 256, kernel_size=(3, 3), stride=(1, 1), padding=(1, 1), bias=False)\n",
       "      (bn1): BatchNorm2d(256, eps=1e-05, momentum=0.1, affine=True, track_running_stats=True)\n",
       "      (relu): ReLU(inplace=True)\n",
       "      (conv2): Conv2d(256, 256, kernel_size=(3, 3), stride=(1, 1), padding=(1, 1), bias=False)\n",
       "      (bn2): BatchNorm2d(256, eps=1e-05, momentum=0.1, affine=True, track_running_stats=True)\n",
       "    )\n",
       "  )\n",
       "  (layer4): Sequential(\n",
       "    (0): BasicBlock(\n",
       "      (conv1): Conv2d(256, 512, kernel_size=(3, 3), stride=(2, 2), padding=(1, 1), bias=False)\n",
       "      (bn1): BatchNorm2d(512, eps=1e-05, momentum=0.1, affine=True, track_running_stats=True)\n",
       "      (relu): ReLU(inplace=True)\n",
       "      (conv2): Conv2d(512, 512, kernel_size=(3, 3), stride=(1, 1), padding=(1, 1), bias=False)\n",
       "      (bn2): BatchNorm2d(512, eps=1e-05, momentum=0.1, affine=True, track_running_stats=True)\n",
       "      (downsample): Sequential(\n",
       "        (0): Conv2d(256, 512, kernel_size=(1, 1), stride=(2, 2), bias=False)\n",
       "        (1): BatchNorm2d(512, eps=1e-05, momentum=0.1, affine=True, track_running_stats=True)\n",
       "      )\n",
       "    )\n",
       "    (1): BasicBlock(\n",
       "      (conv1): Conv2d(512, 512, kernel_size=(3, 3), stride=(1, 1), padding=(1, 1), bias=False)\n",
       "      (bn1): BatchNorm2d(512, eps=1e-05, momentum=0.1, affine=True, track_running_stats=True)\n",
       "      (relu): ReLU(inplace=True)\n",
       "      (conv2): Conv2d(512, 512, kernel_size=(3, 3), stride=(1, 1), padding=(1, 1), bias=False)\n",
       "      (bn2): BatchNorm2d(512, eps=1e-05, momentum=0.1, affine=True, track_running_stats=True)\n",
       "    )\n",
       "  )\n",
       "  (avgpool): AdaptiveAvgPool2d(output_size=(1, 1))\n",
       "  (fc): Linear(in_features=512, out_features=1000, bias=True)\n",
       ")"
      ]
     },
     "execution_count": 19,
     "metadata": {},
     "output_type": "execute_result"
    }
   ],
   "source": [
    "resnet18_"
   ]
  },
  {
   "cell_type": "code",
   "execution_count": 20,
   "id": "16dbe24b",
   "metadata": {
    "ExecuteTime": {
     "end_time": "2023-01-19T18:47:55.557271Z",
     "start_time": "2023-01-19T18:47:55.539640Z"
    }
   },
   "outputs": [],
   "source": [
    "class MyResNet(nn.Module):\n",
    "    def __init__(self):\n",
    "        super().__init__()\n",
    "\n",
    "        self.block1 = nn.Sequential(nn.Conv2d(\n",
    "            3, 64, kernel_size=3, stride=1, padding=1, bias=False), resnet18_.bn1, resnet18_.relu)  # 删除池化层\n",
    "\n",
    "        # 后续的架构直接从经典架构中选\n",
    "        # 对尺寸很小的数据集而言，我们的深度本来就不深，因此可以试着在特征图数量上有所增加（增加宽度）\n",
    "        self.block2 = resnet18_.layer2  # 2个残差单元\n",
    "        self.block3 = resnet18_.layer3  # 2个残差单元\n",
    "        # 自适应平均池化+线性层，此处都与残差网络一致\n",
    "        self.avgpool = resnet18_.avgpool\n",
    "        # 输出的线性层自己写，以确保输出的类别数量正确\n",
    "        self.fc = nn.Linear(in_features=256, out_features=10, bias=True)\n",
    "\n",
    "    def forward(self, x):\n",
    "        x = self.block1(x)\n",
    "        x = self.block2(x)\n",
    "        x = self.block3(x)\n",
    "        x = self.avgpool(x)\n",
    "        x = x.view(x.shape[0], 256)\n",
    "        x = self.fc(x)\n",
    "        return x"
   ]
  },
  {
   "cell_type": "code",
   "execution_count": 21,
   "id": "e847d191",
   "metadata": {
    "ExecuteTime": {
     "end_time": "2023-01-19T18:47:58.761473Z",
     "start_time": "2023-01-19T18:47:58.755414Z"
    }
   },
   "outputs": [
    {
     "data": {
      "text/plain": [
       "VGG(\n",
       "  (features): Sequential(\n",
       "    (0): Conv2d(3, 64, kernel_size=(3, 3), stride=(1, 1), padding=(1, 1))\n",
       "    (1): ReLU(inplace=True)\n",
       "    (2): Conv2d(64, 64, kernel_size=(3, 3), stride=(1, 1), padding=(1, 1))\n",
       "    (3): ReLU(inplace=True)\n",
       "    (4): MaxPool2d(kernel_size=2, stride=2, padding=0, dilation=1, ceil_mode=False)\n",
       "    (5): Conv2d(64, 128, kernel_size=(3, 3), stride=(1, 1), padding=(1, 1))\n",
       "    (6): ReLU(inplace=True)\n",
       "    (7): Conv2d(128, 128, kernel_size=(3, 3), stride=(1, 1), padding=(1, 1))\n",
       "    (8): ReLU(inplace=True)\n",
       "    (9): MaxPool2d(kernel_size=2, stride=2, padding=0, dilation=1, ceil_mode=False)\n",
       "    (10): Conv2d(128, 256, kernel_size=(3, 3), stride=(1, 1), padding=(1, 1))\n",
       "    (11): ReLU(inplace=True)\n",
       "    (12): Conv2d(256, 256, kernel_size=(3, 3), stride=(1, 1), padding=(1, 1))\n",
       "    (13): ReLU(inplace=True)\n",
       "    (14): Conv2d(256, 256, kernel_size=(3, 3), stride=(1, 1), padding=(1, 1))\n",
       "    (15): ReLU(inplace=True)\n",
       "    (16): MaxPool2d(kernel_size=2, stride=2, padding=0, dilation=1, ceil_mode=False)\n",
       "    (17): Conv2d(256, 512, kernel_size=(3, 3), stride=(1, 1), padding=(1, 1))\n",
       "    (18): ReLU(inplace=True)\n",
       "    (19): Conv2d(512, 512, kernel_size=(3, 3), stride=(1, 1), padding=(1, 1))\n",
       "    (20): ReLU(inplace=True)\n",
       "    (21): Conv2d(512, 512, kernel_size=(3, 3), stride=(1, 1), padding=(1, 1))\n",
       "    (22): ReLU(inplace=True)\n",
       "    (23): MaxPool2d(kernel_size=2, stride=2, padding=0, dilation=1, ceil_mode=False)\n",
       "    (24): Conv2d(512, 512, kernel_size=(3, 3), stride=(1, 1), padding=(1, 1))\n",
       "    (25): ReLU(inplace=True)\n",
       "    (26): Conv2d(512, 512, kernel_size=(3, 3), stride=(1, 1), padding=(1, 1))\n",
       "    (27): ReLU(inplace=True)\n",
       "    (28): Conv2d(512, 512, kernel_size=(3, 3), stride=(1, 1), padding=(1, 1))\n",
       "    (29): ReLU(inplace=True)\n",
       "    (30): MaxPool2d(kernel_size=2, stride=2, padding=0, dilation=1, ceil_mode=False)\n",
       "  )\n",
       "  (avgpool): AdaptiveAvgPool2d(output_size=(7, 7))\n",
       "  (classifier): Sequential(\n",
       "    (0): Linear(in_features=25088, out_features=4096, bias=True)\n",
       "    (1): ReLU(inplace=True)\n",
       "    (2): Dropout(p=0.5, inplace=False)\n",
       "    (3): Linear(in_features=4096, out_features=4096, bias=True)\n",
       "    (4): ReLU(inplace=True)\n",
       "    (5): Dropout(p=0.5, inplace=False)\n",
       "    (6): Linear(in_features=4096, out_features=1000, bias=True)\n",
       "  )\n",
       ")"
      ]
     },
     "execution_count": 21,
     "metadata": {},
     "output_type": "execute_result"
    }
   ],
   "source": [
    "vgg16_"
   ]
  },
  {
   "cell_type": "code",
   "execution_count": 22,
   "id": "1af8c590",
   "metadata": {
    "ExecuteTime": {
     "end_time": "2023-01-19T18:48:08.405290Z",
     "start_time": "2023-01-19T18:48:08.399292Z"
    }
   },
   "outputs": [],
   "source": [
    "class MyVgg(nn.Module):\n",
    "    def __init__(self):\n",
    "        super().__init__()\n",
    "\n",
    "        # 在9层之后增加一个单独的卷积层，再加入池化层，构成(卷积x2+池化) + (卷积x3+池化)的类似AlexNet的结构\n",
    "        self.features = nn.Sequential(*vgg16_.features[0:9]  # 星号用于解码\n",
    "                                      , nn.Conv2d(128, 128, kernel_size=3, stride=1, padding=1), nn.ReLU(inplace=True), nn.MaxPool2d(2, 2, padding=0, dilation=1, ceil_mode=False))\n",
    "        # 进入线性层时输入通道数发生变化，因此线性层需要重写\n",
    "        # 输出层也需要重写\n",
    "        self.avgpool = vgg16_.avgpool\n",
    "        self.fc = nn.Sequential(nn.Linear(7*7*128, out_features=4096, bias=True), *\n",
    "                                vgg16_.classifier[1:6], nn.Linear(in_features=4096, out_features=10, bias=True))\n",
    "\n",
    "    def forward(self, x):\n",
    "        x = self.features(x)\n",
    "        x = self.avgpool(x)\n",
    "        x = x.view(x.shape[0], 7*7*128)\n",
    "        x = self.fc(x)\n",
    "        return x"
   ]
  },
  {
   "cell_type": "code",
   "execution_count": 23,
   "id": "b46ad692",
   "metadata": {
    "ExecuteTime": {
     "end_time": "2023-01-19T18:48:12.541777Z",
     "start_time": "2023-01-19T18:48:12.536787Z"
    }
   },
   "outputs": [],
   "source": [
    "from torchinfo import summary"
   ]
  },
  {
   "cell_type": "code",
   "execution_count": 24,
   "id": "5a9b2773",
   "metadata": {
    "ExecuteTime": {
     "end_time": "2023-01-19T18:48:18.539512Z",
     "start_time": "2023-01-19T18:48:18.413276Z"
    }
   },
   "outputs": [
    {
     "data": {
      "text/plain": [
       "==========================================================================================\n",
       "Layer (type:depth-idx)                   Output Shape              Param #\n",
       "==========================================================================================\n",
       "MyResNet                                 [10, 10]                  --\n",
       "├─Sequential: 1-1                        [10, 64, 28, 28]          --\n",
       "│    └─Conv2d: 2-1                       [10, 64, 28, 28]          1,728\n",
       "│    └─BatchNorm2d: 2-2                  [10, 64, 28, 28]          128\n",
       "│    └─ReLU: 2-3                         [10, 64, 28, 28]          --\n",
       "├─Sequential: 1-2                        [10, 128, 14, 14]         --\n",
       "│    └─BasicBlock: 2-4                   [10, 128, 14, 14]         230,144\n",
       "│    └─BasicBlock: 2-5                   [10, 128, 14, 14]         295,424\n",
       "├─Sequential: 1-3                        [10, 256, 7, 7]           --\n",
       "│    └─BasicBlock: 2-6                   [10, 256, 7, 7]           919,040\n",
       "│    └─BasicBlock: 2-7                   [10, 256, 7, 7]           1,180,672\n",
       "├─AdaptiveAvgPool2d: 1-4                 [10, 256, 1, 1]           --\n",
       "├─Linear: 1-5                            [10, 10]                  2,570\n",
       "==========================================================================================\n",
       "Total params: 2,629,706\n",
       "Trainable params: 2,629,706\n",
       "Non-trainable params: 0\n",
       "Total mult-adds (G): 2.07\n",
       "==========================================================================================\n",
       "Input size (MB): 0.09\n",
       "Forward/backward pass size (MB): 38.13\n",
       "Params size (MB): 10.52\n",
       "Estimated Total Size (MB): 48.75\n",
       "=========================================================================================="
      ]
     },
     "execution_count": 24,
     "metadata": {},
     "output_type": "execute_result"
    }
   ],
   "source": [
    "summary(MyResNet(), (10, 3, 28, 28), depth=2, device=\"cpu\")"
   ]
  },
  {
   "cell_type": "code",
   "execution_count": 25,
   "id": "43e87298",
   "metadata": {
    "ExecuteTime": {
     "end_time": "2023-01-19T18:48:25.304955Z",
     "start_time": "2023-01-19T18:48:25.113631Z"
    }
   },
   "outputs": [
    {
     "data": {
      "text/plain": [
       "==========================================================================================\n",
       "Layer (type:depth-idx)                   Output Shape              Param #\n",
       "==========================================================================================\n",
       "MyVgg                                    [10, 10]                  --\n",
       "├─Sequential: 1-1                        [10, 128, 7, 7]           --\n",
       "│    └─Conv2d: 2-1                       [10, 64, 28, 28]          1,792\n",
       "│    └─ReLU: 2-2                         [10, 64, 28, 28]          --\n",
       "│    └─Conv2d: 2-3                       [10, 64, 28, 28]          36,928\n",
       "│    └─ReLU: 2-4                         [10, 64, 28, 28]          --\n",
       "│    └─MaxPool2d: 2-5                    [10, 64, 14, 14]          --\n",
       "│    └─Conv2d: 2-6                       [10, 128, 14, 14]         73,856\n",
       "│    └─ReLU: 2-7                         [10, 128, 14, 14]         --\n",
       "│    └─Conv2d: 2-8                       [10, 128, 14, 14]         147,584\n",
       "│    └─ReLU: 2-9                         [10, 128, 14, 14]         --\n",
       "│    └─Conv2d: 2-10                      [10, 128, 14, 14]         147,584\n",
       "│    └─ReLU: 2-11                        [10, 128, 14, 14]         --\n",
       "│    └─MaxPool2d: 2-12                   [10, 128, 7, 7]           --\n",
       "├─AdaptiveAvgPool2d: 1-2                 [10, 128, 7, 7]           --\n",
       "├─Sequential: 1-3                        [10, 10]                  --\n",
       "│    └─Linear: 2-13                      [10, 4096]                25,694,208\n",
       "│    └─ReLU: 2-14                        [10, 4096]                --\n",
       "│    └─Dropout: 2-15                     [10, 4096]                --\n",
       "│    └─Linear: 2-16                      [10, 4096]                16,781,312\n",
       "│    └─ReLU: 2-17                        [10, 4096]                --\n",
       "│    └─Dropout: 2-18                     [10, 4096]                --\n",
       "│    └─Linear: 2-19                      [10, 10]                  40,970\n",
       "==========================================================================================\n",
       "Total params: 42,924,234\n",
       "Trainable params: 42,924,234\n",
       "Non-trainable params: 0\n",
       "Total mult-adds (G): 1.45\n",
       "==========================================================================================\n",
       "Input size (MB): 0.09\n",
       "Forward/backward pass size (MB): 14.71\n",
       "Params size (MB): 171.70\n",
       "Estimated Total Size (MB): 186.50\n",
       "=========================================================================================="
      ]
     },
     "execution_count": 25,
     "metadata": {},
     "output_type": "execute_result"
    }
   ],
   "source": [
    "summary(MyVgg(), (10, 3, 28, 28), depth=2, device=\"cpu\")"
   ]
  },
  {
   "cell_type": "code",
   "execution_count": 26,
   "id": "a74447ae",
   "metadata": {
    "ExecuteTime": {
     "end_time": "2023-01-19T18:49:00.983364Z",
     "start_time": "2023-01-19T18:49:00.965418Z"
    }
   },
   "outputs": [
    {
     "data": {
      "text/plain": [
       "tensor([[ 0.0324, -0.0175,  0.0459],\n",
       "        [ 0.0728, -0.0392,  0.0903],\n",
       "        [-0.0266, -0.0177, -0.0227]], grad_fn=<SelectBackward>)"
      ]
     },
     "execution_count": 26,
     "metadata": {},
     "output_type": "execute_result"
    }
   ],
   "source": [
    "[*MyResNet().block2[0].parameters()][0][0][0]"
   ]
  },
  {
   "cell_type": "code",
   "execution_count": 27,
   "id": "6b22b028",
   "metadata": {
    "ExecuteTime": {
     "end_time": "2023-01-19T18:49:06.412195Z",
     "start_time": "2023-01-19T18:49:06.401141Z"
    }
   },
   "outputs": [
    {
     "data": {
      "text/plain": [
       "tensor([[ 0.0324, -0.0175,  0.0459],\n",
       "        [ 0.0728, -0.0392,  0.0903],\n",
       "        [-0.0266, -0.0177, -0.0227]], grad_fn=<SelectBackward>)"
      ]
     },
     "execution_count": 27,
     "metadata": {},
     "output_type": "execute_result"
    }
   ],
   "source": [
    "[*resnet18_.layer2[0].conv1.parameters()][0][0][0]"
   ]
  },
  {
   "cell_type": "code",
   "execution_count": 28,
   "id": "d9ccbb43",
   "metadata": {
    "ExecuteTime": {
     "end_time": "2023-01-19T18:49:12.295643Z",
     "start_time": "2023-01-19T18:49:12.278845Z"
    }
   },
   "outputs": [
    {
     "data": {
      "text/plain": [
       "[Parameter containing:\n",
       " tensor([[ 0.0218, -0.0385, -0.0548,  ...,  0.0045, -0.0612,  0.0406],\n",
       "         [-0.0398,  0.0063,  0.0567,  ..., -0.0390,  0.0392, -0.0345],\n",
       "         [-0.0231, -0.0487, -0.0456,  ..., -0.0538,  0.0066, -0.0088],\n",
       "         ...,\n",
       "         [ 0.0070, -0.0560, -0.0430,  ...,  0.0526, -0.0575,  0.0610],\n",
       "         [-0.0354, -0.0283,  0.0108,  ..., -0.0044, -0.0565,  0.0460],\n",
       "         [ 0.0033,  0.0593,  0.0278,  ..., -0.0409, -0.0437,  0.0202]],\n",
       "        requires_grad=True),\n",
       " Parameter containing:\n",
       " tensor([-0.0122, -0.0585,  0.0398, -0.0387,  0.0612, -0.0471,  0.0494,  0.0117,\n",
       "          0.0264,  0.0493], requires_grad=True)]"
      ]
     },
     "execution_count": 28,
     "metadata": {},
     "output_type": "execute_result"
    }
   ],
   "source": [
    "[*resnet18_.fc.parameters()]  # 自己设立的部分参数是不同的\n",
    "[*MyResNet().fc.parameters()]"
   ]
  },
  {
   "cell_type": "markdown",
   "id": "c859ab92",
   "metadata": {},
   "source": [
    "## Early stopping"
   ]
  },
  {
   "cell_type": "code",
   "execution_count": 29,
   "id": "54a2dab2",
   "metadata": {
    "ExecuteTime": {
     "end_time": "2023-01-19T18:49:22.903049Z",
     "start_time": "2023-01-19T18:49:22.892471Z"
    }
   },
   "outputs": [],
   "source": [
    "class EarlyStopping():\n",
    "    def __init__(self, patience=5, tol=0.0005):  # 惯例地定义我们所需要的一切变量/属性\\\n",
    "        # 当连续patience次迭代时，这一轮迭代的损失与历史最低损失之间的差值小于阈值时\n",
    "        # 就触发提前停止\n",
    "\n",
    "        self.patience = patience\n",
    "        self.tol = tol  # tolerance，累积5次都低于tol才会触发停止\n",
    "        self.counter = 0  # 计数，计算现在已经累积了counter次\n",
    "        self.lowest_loss = None\n",
    "        self.early_stop = False  # True - 提前停止，False - 不要提前停止\n",
    "\n",
    "    def __call__(self, val_loss):\n",
    "        if self.lowest_loss == None:  # 这是第一轮迭代\n",
    "            self.lowest_loss = val_loss\n",
    "        elif self.lowest_loss - val_loss > self.tol:\n",
    "            self.lowest_loss = val_loss\n",
    "            self.counter = 0\n",
    "        elif self.lowest_loss - val_loss < self.tol:\n",
    "            self.counter += 1\n",
    "            print(\"\\t NOTICE: Early stopping counter {} of {}\".format(\n",
    "                self.counter, self.patience))\n",
    "            if self.counter >= self.patience:\n",
    "                print('\\t NOTICE: Early Stopping Actived')\n",
    "                self.early_stop = True\n",
    "        return self.early_stop"
   ]
  },
  {
   "cell_type": "markdown",
   "id": "bdc1f2a8",
   "metadata": {},
   "source": [
    "## Train"
   ]
  },
  {
   "cell_type": "code",
   "execution_count": 30,
   "id": "f1f8e673",
   "metadata": {
    "ExecuteTime": {
     "end_time": "2023-01-19T18:49:37.126852Z",
     "start_time": "2023-01-19T18:49:37.106965Z"
    }
   },
   "outputs": [],
   "source": [
    "def IterOnce(net, criterion, opt, x, y):\n",
    "    \"\"\"\n",
    "    对模型进行一次迭代的函数\n",
    "\n",
    "    net: 实例化后的架构\n",
    "    criterion: 损失函数\n",
    "    opt: 优化算法\n",
    "    x: 这一个batch中所有的样本\n",
    "    y: 这一个batch中所有样本的真实标签\n",
    "    \"\"\"\n",
    "    sigma = net.forward(x)\n",
    "    loss = criterion(sigma, y)\n",
    "    loss.backward()\n",
    "    opt.step()\n",
    "    opt.zero_grad(set_to_none=True)  # 比起设置梯度为0，让梯度为None会更节约内存\n",
    "    yhat = torch.max(sigma, 1)[1]\n",
    "    correct = torch.sum(yhat == y)\n",
    "    return correct, loss"
   ]
  },
  {
   "cell_type": "code",
   "execution_count": 31,
   "id": "ab7281c9",
   "metadata": {
    "ExecuteTime": {
     "end_time": "2023-01-19T18:49:42.477908Z",
     "start_time": "2023-01-19T18:49:42.461314Z"
    }
   },
   "outputs": [],
   "source": [
    "def TestOnce(net, criterion, x, y):\n",
    "    \"\"\"\n",
    "    对一组数据进行测试并输出测试结果的函数\n",
    "\n",
    "    net: 经过训练后的架构\n",
    "    criterion：损失函数\n",
    "    x：要测试的数据的所有样本\n",
    "    y：要测试的数据的真实标签\n",
    "    \"\"\"\n",
    "    # 对测试，一定要阻止计算图追踪\n",
    "    # 这样可以节省很多内存，加速运算\n",
    "    with torch.no_grad():\n",
    "        sigma = net.forward(x)\n",
    "        loss = criterion(sigma, y)\n",
    "        yhat = torch.max(sigma, 1)[1]\n",
    "        correct = torch.sum(yhat == y)\n",
    "    return correct, loss"
   ]
  },
  {
   "cell_type": "code",
   "execution_count": 32,
   "id": "977e458e",
   "metadata": {
    "ExecuteTime": {
     "end_time": "2023-01-19T18:49:54.264235Z",
     "start_time": "2023-01-19T18:49:54.246701Z"
    }
   },
   "outputs": [],
   "source": [
    "def fit_test(net, batchdata, testdata, criterion, opt, epochs, tol, modelname, PATH):\n",
    "    \"\"\"\n",
    "    对模型进行训练，并在每个epoch后输出训练集和测试集上的准确率/损失\n",
    "    以实现对模型的监控\n",
    "    实现模型的保存\n",
    "\n",
    "    参数说明：\n",
    "    net: 实例化后的网络\n",
    "    batchdata：使用Dataloader分割后的训练数据\n",
    "    testdata：使用Dataloader分割后的测试数据\n",
    "    criterion：所使用的损失函数\n",
    "    opt：所使用的优化算法\n",
    "    epochs：一共要使用完整数据集epochs次\n",
    "    tol：提前停止时测试集上loss下降的阈值，连续5次loss下降不超过tol就会触发提前停止\n",
    "    modelname：现在正在运行的模型名称，用于保存权重时作为文件名\n",
    "    PATH：将权重文件保存在path目录下\n",
    "\n",
    "    \"\"\"\n",
    "\n",
    "    SamplePerEpoch = batchdata.dataset.__len__()  # 整个epoch里有多少个样本\n",
    "    allsamples = SamplePerEpoch*epochs\n",
    "    trainedsamples = 0\n",
    "    trainlosslist = []\n",
    "    testlosslist = []\n",
    "    early_stopping = EarlyStopping(tol=tol)\n",
    "    highestacc = None\n",
    "\n",
    "    for epoch in range(1, epochs+1):\n",
    "        net.train()\n",
    "        correct_train = 0\n",
    "        loss_train = 0\n",
    "        for batch_idx, (x, y) in enumerate(batchdata):\n",
    "            y = y.view(x.shape[0])\n",
    "            correct, loss = IterOnce(net, criterion, opt, x, y)\n",
    "            trainedsamples += x.shape[0]\n",
    "            loss_train += loss\n",
    "            correct_train += correct\n",
    "\n",
    "            if (batch_idx+1) % 125 == 0:\n",
    "                # 现在进行到了哪个epoch\n",
    "                # 现在训练到了多少个样本\n",
    "                # 总共要训练多少个样本\n",
    "                # 现在的训练的样本占总共需要训练的样本的百分比\n",
    "                print('Epoch{}:[{}/{}({:.0f}%)]'.format(epoch,\n",
    "                      trainedsamples, allsamples, 100*trainedsamples/allsamples))\n",
    "\n",
    "        TrainAccThisEpoch = float(correct_train*100)/SamplePerEpoch\n",
    "        TrainLossThisEpoch = float(loss_train*100)/SamplePerEpoch  # 平均每个样本上的损失\n",
    "        trainlosslist.append(TrainLossThisEpoch)\n",
    "\n",
    "        # 每次训练完一个epoch，就在测试集上验证一下模型现在的效果\n",
    "        net.eval()\n",
    "        loss_test = 0\n",
    "        correct_test = 0\n",
    "        loss_test = 0\n",
    "        TestSample = testdata.dataset.__len__()\n",
    "\n",
    "        for x, y in testdata:\n",
    "            y = y.view(x.shape[0])\n",
    "            correct, loss = TestOnce(net, criterion, x, y)\n",
    "            loss_test += loss\n",
    "            correct_test += correct\n",
    "\n",
    "        TestAccThisEpoch = float(correct_test * 100)/TestSample\n",
    "        TestLossThisEpoch = float(loss_test * 100)/TestSample\n",
    "        testlosslist.append(TestLossThisEpoch)\n",
    "\n",
    "        # 对每一个epoch，打印训练和测试的结果\n",
    "        # 训练集上的损失，测试集上的损失，训练集上的准确率，测试集上的准确率\n",
    "        print(\"\\t Train Loss:{:.6f}, Test Loss:{:.6f}, Train Acc:{:.3f}%, Test Acc:{:.3f}%\".format(\n",
    "            TrainLossThisEpoch, TestLossThisEpoch, TrainAccThisEpoch, TestAccThisEpoch))\n",
    "\n",
    "        # 如果测试集准确率出现新高/测试集loss出现新低，那我会保存现在的这一组权重\n",
    "        if highestacc == None:  # 首次进行测试\n",
    "            highestacc = TestAccThisEpoch\n",
    "        if highestacc < TestAccThisEpoch:\n",
    "            highestacc = TestAccThisEpoch\n",
    "            torch.save(net.state_dict(), os.path.join(PATH, modelname+\".pt\"))\n",
    "            print(\"\\t Weight Saved\")\n",
    "\n",
    "        # 提前停止\n",
    "        early_stop = early_stopping(TestLossThisEpoch)\n",
    "        if early_stop == \"True\":\n",
    "            break\n",
    "\n",
    "    print(\"Complete\")\n",
    "    return trainlosslist, testlosslist"
   ]
  },
  {
   "cell_type": "code",
   "execution_count": 33,
   "id": "b50cbc1d",
   "metadata": {
    "ExecuteTime": {
     "end_time": "2023-01-19T18:50:27.473882Z",
     "start_time": "2023-01-19T18:50:27.458344Z"
    }
   },
   "outputs": [],
   "source": [
    "bs = 128\n",
    "# net\n",
    "lr = 0.001\n",
    "alpha = 0.99\n",
    "gamma = 0\n",
    "wd = 0"
   ]
  },
  {
   "cell_type": "code",
   "execution_count": 34,
   "id": "7e086884",
   "metadata": {
    "ExecuteTime": {
     "end_time": "2023-01-19T18:50:32.638540Z",
     "start_time": "2023-01-19T18:50:32.630024Z"
    }
   },
   "outputs": [],
   "source": [
    "batchdata = DataLoader(train, batch_size=bs, shuffle=True,\n",
    "                       drop_last=False, num_workers=4)  # 线程 - 调度计算资源的最小单位\n",
    "testdata = DataLoader(test, batch_size=bs, shuffle=False,\n",
    "                      drop_last=False, num_workers=4)"
   ]
  },
  {
   "cell_type": "code",
   "execution_count": 36,
   "id": "3ac57028",
   "metadata": {
    "ExecuteTime": {
     "end_time": "2023-01-19T18:50:56.561289Z",
     "start_time": "2023-01-19T18:50:56.554451Z"
    }
   },
   "outputs": [],
   "source": [
    "def full_procedure(net, epochs, bs, modelname, PATH, lr=0.001, alpha=0.99, gamma=0, wd=0, tol=10**(-5)):\n",
    "\n",
    "    torch.manual_seed(1412)\n",
    "\n",
    "    # 分割数据\n",
    "    batchdata = DataLoader(train, batch_size=bs, shuffle=True,\n",
    "                           drop_last=False, num_workers=4)  # 线程 - 调度计算资源的最小单位\n",
    "    testdata = DataLoader(test, batch_size=bs, shuffle=False,\n",
    "                          drop_last=False, num_workers=4)\n",
    "\n",
    "    # 损失函数，优化算法\n",
    "    criterion = nn.CrossEntropyLoss(reduction=\"sum\")  # 进行损失函数计算时，最后输出结果的计算模式\n",
    "    opt = optim.RMSprop(net.parameters(), lr=lr, alpha=alpha,\n",
    "                        momentum=gamma, weight_decay=wd)\n",
    "\n",
    "    # 训练与测试\n",
    "    trainloss, testloss = fit_test(\n",
    "        net, batchdata, testdata, criterion, opt, epochs, tol, modelname, PATH)\n",
    "\n",
    "    return trainloss, testloss"
   ]
  },
  {
   "cell_type": "code",
   "execution_count": 37,
   "id": "5728a4ab",
   "metadata": {
    "ExecuteTime": {
     "end_time": "2023-01-19T18:51:04.140802Z",
     "start_time": "2023-01-19T18:51:04.125821Z"
    }
   },
   "outputs": [],
   "source": [
    "# 绘图函数\n",
    "def plotloss(trainloss, testloss):\n",
    "    plt.figure(figsize=(10, 7))\n",
    "    plt.plot(trainloss, color=\"red\", label=\"Trainloss\")\n",
    "    plt.plot(testloss, color=\"orange\", label=\"Testloss\")\n",
    "    plt.xlabel('Epochs')\n",
    "    plt.ylabel('Loss')\n",
    "    plt.legend()\n",
    "    plt.show()"
   ]
  },
  {
   "cell_type": "code",
   "execution_count": 38,
   "id": "5efe498d",
   "metadata": {
    "ExecuteTime": {
     "end_time": "2023-01-19T18:51:22.275239Z",
     "start_time": "2023-01-19T18:51:22.259561Z"
    }
   },
   "outputs": [],
   "source": [
    "torch.cuda.manual_seed(1412)\n",
    "torch.cuda.manual_seed_all(1412)"
   ]
  },
  {
   "cell_type": "code",
   "execution_count": 39,
   "id": "a9d0fb24",
   "metadata": {
    "ExecuteTime": {
     "end_time": "2023-01-19T18:51:26.017471Z",
     "start_time": "2023-01-19T18:51:26.009461Z"
    }
   },
   "outputs": [
    {
     "data": {
      "text/plain": [
       "True"
      ]
     },
     "execution_count": 39,
     "metadata": {},
     "output_type": "execute_result"
    }
   ],
   "source": [
    "torch.cuda.is_available()"
   ]
  },
  {
   "cell_type": "code",
   "execution_count": 40,
   "id": "bca49f4c",
   "metadata": {
    "ExecuteTime": {
     "end_time": "2023-01-19T18:51:36.718222Z",
     "start_time": "2023-01-19T18:51:36.699139Z"
    }
   },
   "outputs": [],
   "source": [
    "def fit_test(net, batchdata, testdata, criterion, opt, epochs, tol, modelname, PATH):\n",
    "    \"\"\"\n",
    "    对模型进行训练，并在每个epoch后输出训练集和测试集上的准确率/损失\n",
    "    以实现对模型的监控\n",
    "    实现模型的保存\n",
    "\n",
    "    参数说明：\n",
    "    net: 实例化后的网络\n",
    "    batchdata：使用Dataloader分割后的训练数据\n",
    "    testdata：使用Dataloader分割后的测试数据\n",
    "    criterion：所使用的损失函数\n",
    "    opt：所使用的优化算法\n",
    "    epochs：一共要使用完整数据集epochs次\n",
    "    tol：提前停止时测试集上loss下降的阈值，连续5次loss下降不超过tol就会触发提前停止\n",
    "    modelname：现在正在运行的模型名称，用于保存权重时作为文件名\n",
    "    PATH：将权重文件保存在path目录下\n",
    "\n",
    "    \"\"\"\n",
    "\n",
    "    SamplePerEpoch = batchdata.dataset.__len__()  # 整个epoch里有多少个样本\n",
    "    allsamples = SamplePerEpoch*epochs\n",
    "    trainedsamples = 0\n",
    "    trainlosslist = []\n",
    "    testlosslist = []\n",
    "    early_stopping = EarlyStopping(tol=tol)\n",
    "    highestacc = None\n",
    "\n",
    "    for epoch in range(1, epochs+1):\n",
    "        net.train()\n",
    "        correct_train = 0\n",
    "        loss_train = 0\n",
    "        for batch_idx, (x, y) in enumerate(batchdata):\n",
    "            # non_blocking 非阻塞 = True\n",
    "            x = x.to(device, non_blocking=True)\n",
    "            y = y.to(device, non_blocking=True).view(x.shape[0])\n",
    "            correct, loss = IterOnce(net, criterion, opt, x, y)\n",
    "\n",
    "            # 计算样本总量、总的correct、loss\n",
    "            trainedsamples += x.shape[0]\n",
    "            loss_train += loss\n",
    "            correct_train += correct\n",
    "\n",
    "            if (batch_idx+1) % 125 == 0:\n",
    "                # 现在进行到了哪个epoch\n",
    "                # 现在训练到了多少个样本\n",
    "                # 总共要训练多少个样本\n",
    "                # 现在的训练的样本占总共需要训练的样本的百分比\n",
    "                print('Epoch{}:[{}/{}({:.0f}%)]'.format(epoch,\n",
    "                      trainedsamples, allsamples, 100*trainedsamples/allsamples))\n",
    "\n",
    "        TrainAccThisEpoch = float(correct_train*100)/SamplePerEpoch\n",
    "        TrainLossThisEpoch = float(loss_train*100)/SamplePerEpoch  # 平均每个样本上的损失\n",
    "        trainlosslist.append(TrainLossThisEpoch)\n",
    "\n",
    "        # 清理GPU内存\n",
    "        # 清理掉一个epoch循环下面不再需要的中间变量\n",
    "        del x, y, correct, loss, correct_train, loss_train  # 删除数据与变量\n",
    "        gc.collect()  # 清除数据与变量相关的缓存\n",
    "        torch.cuda.empty_cache()  # 缓存分配器分配出去的内存给释放掉\n",
    "\n",
    "        # 每次训练完一个epoch，就在测试集上验证一下模型现在的效果\n",
    "        net.eval()\n",
    "        loss_test = 0\n",
    "        correct_test = 0\n",
    "        loss_test = 0\n",
    "        TestSample = testdata.dataset.__len__()\n",
    "\n",
    "        for x, y in testdata:\n",
    "            x = x.to(device, non_blocking=True)\n",
    "            y = y.to(device, non_blocking=True).view(x.shape[0])\n",
    "            correct, loss = TestOnce(net, criterion, x, y)\n",
    "            loss_test += loss\n",
    "            correct_test += correct\n",
    "\n",
    "        TestAccThisEpoch = float(correct_test * 100)/TestSample\n",
    "        TestLossThisEpoch = float(loss_test * 100)/TestSample\n",
    "        testlosslist.append(TestLossThisEpoch)\n",
    "\n",
    "        # 清理GPU内存\n",
    "        del x, y, correct, loss, correct_test, loss_test\n",
    "        gc.collect()\n",
    "        torch.cuda.empty_cache()\n",
    "\n",
    "        # 对每一个epoch，打印训练和测试的结果\n",
    "        # 训练集上的损失，测试集上的损失，训练集上的准确率，测试集上的准确率\n",
    "        print(\"\\t Train Loss:{:.6f}, Test Loss:{:.6f}, Train Acc:{:.3f}%, Test Acc:{:.3f}%\".format(\n",
    "            TrainLossThisEpoch, TestLossThisEpoch, TrainAccThisEpoch, TestAccThisEpoch))\n",
    "\n",
    "        # 如果测试集准确率出现新高/测试集loss出现新低，那我会保存现在的这一组权重\n",
    "        if highestacc == None:  # 首次进行测试\n",
    "            highestacc = TestAccThisEpoch\n",
    "        if highestacc < TestAccThisEpoch:\n",
    "            highestacc = TestAccThisEpoch\n",
    "            torch.save(net.state_dict(), os.path.join(PATH, modelname+\".pt\"))\n",
    "            print(\"\\t Weight Saved\")\n",
    "\n",
    "        # 提前停止\n",
    "        early_stop = early_stopping(TestLossThisEpoch)\n",
    "        if early_stop == \"True\":\n",
    "            break\n",
    "\n",
    "    print(\"Complete\")\n",
    "    return trainlosslist, testlosslist"
   ]
  },
  {
   "cell_type": "code",
   "execution_count": 41,
   "id": "d3a00e0b",
   "metadata": {
    "ExecuteTime": {
     "end_time": "2023-01-19T18:51:43.908414Z",
     "start_time": "2023-01-19T18:51:43.888781Z"
    }
   },
   "outputs": [
    {
     "data": {
      "text/plain": [
       "0"
      ]
     },
     "execution_count": 41,
     "metadata": {},
     "output_type": "execute_result"
    }
   ],
   "source": [
    "torch.cuda.memory_allocated()  # 张量内存的占用情况（现状）\n",
    "torch.cuda.memory_reserved()  # 缓存分配器占用的所有内存（现状）\n",
    "torch.cuda.max_memory_allocated()  # 自GPU运行以来占用过的最大张量内存（峰值）"
   ]
  },
  {
   "cell_type": "code",
   "execution_count": 42,
   "id": "5f7f8b87",
   "metadata": {
    "ExecuteTime": {
     "end_time": "2023-01-19T18:51:52.401921Z",
     "start_time": "2023-01-19T18:51:52.383464Z"
    }
   },
   "outputs": [],
   "source": [
    "def full_procedure(net, epochs, bs, modelname, PATH, lr=0.001, alpha=0.99, gamma=0, wd=0, tol=10**(-5)):\n",
    "\n",
    "    torch.cuda.manual_seed(1412)\n",
    "    torch.cuda.manual_seed_all(1412)\n",
    "    torch.manual_seed(1412)\n",
    "\n",
    "    # 分割数据\n",
    "    batchdata = DataLoader(train, batch_size=bs,\n",
    "                           shuffle=True, drop_last=False, pin_memory=True)\n",
    "    testdata = DataLoader(test, batch_size=bs, shuffle=False,\n",
    "                          drop_last=False, pin_memory=True)\n",
    "\n",
    "    # 损失函数，优化算法\n",
    "    criterion = nn.CrossEntropyLoss(reduction=\"sum\")  # 进行损失函数计算时，最后输出结果的计算模式\n",
    "    opt = optim.RMSprop(net.parameters(), lr=lr, alpha=alpha,\n",
    "                        momentum=gamma, weight_decay=wd)\n",
    "\n",
    "    # 训练与测试\n",
    "    trainloss, testloss = fit_test(\n",
    "        net, batchdata, testdata, criterion, opt, epochs, tol, modelname, PATH)\n",
    "\n",
    "    return trainloss, testloss"
   ]
  },
  {
   "cell_type": "markdown",
   "id": "ef093b87",
   "metadata": {},
   "source": [
    "## Model selection"
   ]
  },
  {
   "cell_type": "code",
   "execution_count": 43,
   "id": "bb9b1408",
   "metadata": {
    "ExecuteTime": {
     "end_time": "2023-01-19T18:52:06.592288Z",
     "start_time": "2023-01-19T18:52:06.380616Z"
    }
   },
   "outputs": [
    {
     "name": "stdout",
     "output_type": "stream",
     "text": [
      "\n",
      "\n",
      "ResNet\n",
      "==========================================================================================\n",
      "Layer (type:depth-idx)                   Output Shape              Param #\n",
      "==========================================================================================\n",
      "MyResNet                                 [10, 10]                  --\n",
      "├─Sequential: 1-1                        [10, 64, 28, 28]          --\n",
      "│    └─Conv2d: 2-1                       [10, 64, 28, 28]          1,728\n",
      "│    └─BatchNorm2d: 2-2                  [10, 64, 28, 28]          128\n",
      "│    └─ReLU: 2-3                         [10, 64, 28, 28]          --\n",
      "├─Sequential: 1-2                        [10, 128, 14, 14]         --\n",
      "│    └─BasicBlock: 2-4                   [10, 128, 14, 14]         230,144\n",
      "│    └─BasicBlock: 2-5                   [10, 128, 14, 14]         295,424\n",
      "├─Sequential: 1-3                        [10, 256, 7, 7]           --\n",
      "│    └─BasicBlock: 2-6                   [10, 256, 7, 7]           919,040\n",
      "│    └─BasicBlock: 2-7                   [10, 256, 7, 7]           1,180,672\n",
      "├─AdaptiveAvgPool2d: 1-4                 [10, 256, 1, 1]           --\n",
      "├─Linear: 1-5                            [10, 10]                  2,570\n",
      "==========================================================================================\n",
      "Total params: 2,629,706\n",
      "Trainable params: 2,629,706\n",
      "Non-trainable params: 0\n",
      "Total mult-adds (G): 2.07\n",
      "==========================================================================================\n",
      "Input size (MB): 0.09\n",
      "Forward/backward pass size (MB): 38.13\n",
      "Params size (MB): 10.52\n",
      "Estimated Total Size (MB): 48.75\n",
      "==========================================================================================\n",
      "\n",
      "\n",
      "\n",
      "\n",
      "VGG\n",
      "==========================================================================================\n",
      "Layer (type:depth-idx)                   Output Shape              Param #\n",
      "==========================================================================================\n",
      "MyVgg                                    [10, 10]                  --\n",
      "├─Sequential: 1-1                        [10, 128, 7, 7]           --\n",
      "│    └─Conv2d: 2-1                       [10, 64, 28, 28]          1,792\n",
      "│    └─ReLU: 2-2                         [10, 64, 28, 28]          --\n",
      "│    └─Conv2d: 2-3                       [10, 64, 28, 28]          36,928\n",
      "│    └─ReLU: 2-4                         [10, 64, 28, 28]          --\n",
      "│    └─MaxPool2d: 2-5                    [10, 64, 14, 14]          --\n",
      "│    └─Conv2d: 2-6                       [10, 128, 14, 14]         73,856\n",
      "│    └─ReLU: 2-7                         [10, 128, 14, 14]         --\n",
      "│    └─Conv2d: 2-8                       [10, 128, 14, 14]         147,584\n",
      "│    └─ReLU: 2-9                         [10, 128, 14, 14]         --\n",
      "│    └─Conv2d: 2-10                      [10, 128, 14, 14]         147,584\n",
      "│    └─ReLU: 2-11                        [10, 128, 14, 14]         --\n",
      "│    └─MaxPool2d: 2-12                   [10, 128, 7, 7]           --\n",
      "├─AdaptiveAvgPool2d: 1-2                 [10, 128, 7, 7]           --\n",
      "├─Sequential: 1-3                        [10, 10]                  --\n",
      "│    └─Linear: 2-13                      [10, 4096]                25,694,208\n",
      "│    └─ReLU: 2-14                        [10, 4096]                --\n",
      "│    └─Dropout: 2-15                     [10, 4096]                --\n",
      "│    └─Linear: 2-16                      [10, 4096]                16,781,312\n",
      "│    └─ReLU: 2-17                        [10, 4096]                --\n",
      "│    └─Dropout: 2-18                     [10, 4096]                --\n",
      "│    └─Linear: 2-19                      [10, 10]                  40,970\n",
      "==========================================================================================\n",
      "Total params: 42,924,234\n",
      "Trainable params: 42,924,234\n",
      "Non-trainable params: 0\n",
      "Total mult-adds (G): 1.45\n",
      "==========================================================================================\n",
      "Input size (MB): 0.09\n",
      "Forward/backward pass size (MB): 14.71\n",
      "Params size (MB): 171.70\n",
      "Estimated Total Size (MB): 186.50\n",
      "==========================================================================================\n",
      "\n",
      "\n"
     ]
    }
   ],
   "source": [
    "from torchinfo import summary\n",
    "for name, i in [(\"ResNet\", MyResNet()), (\"VGG\", MyVgg())]:\n",
    "    print(\"\\n\")\n",
    "    print(name)\n",
    "    print(summary(i, input_size=(10, 3, 28, 28), depth=2, device=\"cpu\"))\n",
    "    print(\"\\n\")"
   ]
  },
  {
   "cell_type": "code",
   "execution_count": 47,
   "id": "ea963d43",
   "metadata": {
    "ExecuteTime": {
     "end_time": "2023-01-19T19:05:59.897174Z",
     "start_time": "2023-01-19T18:57:56.105633Z"
    }
   },
   "outputs": [
    {
     "name": "stdout",
     "output_type": "stream",
     "text": [
      "Epoch1:[32000/219771(15%)]\n",
      "Epoch1:[64000/219771(29%)]\n",
      "\t Train Loss:151.085712, Test Loss:53.712210, Train Acc:47.845%, Test Acc:83.232%\n",
      "Epoch2:[105257/219771(48%)]\n",
      "Epoch2:[137257/219771(62%)]\n",
      "\t Train Loss:46.388410, Test Loss:31.574219, Train Acc:85.648%, Test Acc:90.592%\n",
      "\t Weight Saved\n",
      "Epoch3:[178514/219771(81%)]\n",
      "Epoch3:[210514/219771(96%)]\n",
      "\t Train Loss:36.437102, Test Loss:23.114417, Train Acc:88.772%, Test Acc:93.254%\n",
      "\t Weight Saved\n",
      "Complete\n",
      "Epoch1:[32000/219771(15%)]\n",
      "Epoch1:[64000/219771(29%)]\n",
      "\t Train Loss:151.188596, Test Loss:52.909616, Train Acc:47.870%, Test Acc:83.501%\n",
      "Epoch2:[105257/219771(48%)]\n",
      "Epoch2:[137257/219771(62%)]\n",
      "\t Train Loss:46.099318, Test Loss:33.823237, Train Acc:85.629%, Test Acc:89.966%\n",
      "\t Weight Saved\n",
      "Epoch3:[178514/219771(81%)]\n",
      "Epoch3:[210514/219771(96%)]\n",
      "\t Train Loss:36.135011, Test Loss:23.919981, Train Acc:88.999%, Test Acc:93.143%\n",
      "\t Weight Saved\n",
      "Complete\n",
      "Epoch1:[32000/219771(15%)]\n",
      "Epoch1:[64000/219771(29%)]\n",
      "\t Train Loss:152.416738, Test Loss:47.727369, Train Acc:47.529%, Test Acc:85.153%\n",
      "Epoch2:[105257/219771(48%)]\n",
      "Epoch2:[137257/219771(62%)]\n",
      "\t Train Loss:46.222405, Test Loss:31.871012, Train Acc:85.612%, Test Acc:90.396%\n",
      "\t Weight Saved\n",
      "Epoch3:[178514/219771(81%)]\n",
      "Epoch3:[210514/219771(96%)]\n",
      "\t Train Loss:36.258955, Test Loss:24.910538, Train Acc:88.893%, Test Acc:92.567%\n",
      "\t Weight Saved\n",
      "Complete\n",
      "Epoch1:[32000/219771(15%)]\n",
      "Epoch1:[64000/219771(29%)]\n",
      "\t Train Loss:148.388359, Test Loss:50.420665, Train Acc:48.924%, Test Acc:84.354%\n",
      "Epoch2:[105257/219771(48%)]\n",
      "Epoch2:[137257/219771(62%)]\n",
      "\t Train Loss:45.936849, Test Loss:31.914087, Train Acc:85.737%, Test Acc:90.477%\n",
      "\t Weight Saved\n",
      "Epoch3:[178514/219771(81%)]\n",
      "Epoch3:[210514/219771(96%)]\n",
      "\t Train Loss:36.164524, Test Loss:23.429368, Train Acc:88.970%, Test Acc:93.254%\n",
      "\t Weight Saved\n",
      "Complete\n",
      "Epoch1:[32000/219771(15%)]\n",
      "Epoch1:[64000/219771(29%)]\n",
      "\t Train Loss:150.714239, Test Loss:52.044882, Train Acc:48.146%, Test Acc:83.828%\n",
      "Epoch2:[105257/219771(48%)]\n",
      "Epoch2:[137257/219771(62%)]\n",
      "\t Train Loss:45.974255, Test Loss:34.362683, Train Acc:85.756%, Test Acc:89.571%\n",
      "\t Weight Saved\n",
      "Epoch3:[178514/219771(81%)]\n",
      "Epoch3:[210514/219771(96%)]\n",
      "\t Train Loss:36.110617, Test Loss:24.002953, Train Acc:88.931%, Test Acc:93.059%\n",
      "\t Weight Saved\n",
      "Complete\n"
     ]
    }
   ],
   "source": [
    "# 建立目录用于存储模型选择结果\n",
    "PATH = r\"E:\\data\\SVHN\\modelselect\"\n",
    "\n",
    "# 使用函数full_procedure中的默认参数，在模型选择时加入时间计算\n",
    "# 基于现有显存，batch_size被设置为256，对于CPU而言最好从64开始设置\n",
    "# MyResNet\n",
    "avgtime = []  # 用来存放每次循环之后获得的训练时间\n",
    "for i in range(5):  # 进行5次训练\n",
    "    # 设置随机数种子\n",
    "    torch.manual_seed(1412)\n",
    "\n",
    "    # 实例化\n",
    "    resnet18_ = m.resnet18()\n",
    "    net = MyResNet().to(device, non_blocking=True)\n",
    "\n",
    "    # 训练\n",
    "    start = time()  # 计算训练时间\n",
    "    trainloss, testloss = full_procedure(\n",
    "        net, epochs=3, bs=256, modelname=\"model_seletion_resnet\", PATH=PATH)\n",
    "    avgtime.append(time()-start)"
   ]
  },
  {
   "cell_type": "code",
   "execution_count": 48,
   "id": "4f66961b",
   "metadata": {
    "ExecuteTime": {
     "end_time": "2023-01-19T19:07:25.396554Z",
     "start_time": "2023-01-19T19:07:25.378383Z"
    }
   },
   "outputs": [
    {
     "name": "stdout",
     "output_type": "stream",
     "text": [
      "96.61155414581299\n"
     ]
    }
   ],
   "source": [
    "print(np.mean(avgtime))"
   ]
  },
  {
   "cell_type": "code",
   "execution_count": 49,
   "id": "e8c1c805",
   "metadata": {
    "ExecuteTime": {
     "end_time": "2023-01-19T19:15:24.272605Z",
     "start_time": "2023-01-19T19:07:26.270516Z"
    }
   },
   "outputs": [
    {
     "name": "stdout",
     "output_type": "stream",
     "text": [
      "Epoch1:[32000/219771(15%)]\n",
      "Epoch1:[64000/219771(29%)]\n",
      "\t Train Loss:2529.075665, Test Loss:217.989321, Train Acc:17.268%, Test Acc:22.008%\n",
      "Epoch2:[105257/219771(48%)]\n",
      "Epoch2:[137257/219771(62%)]\n",
      "\t Train Loss:211.358955, Test Loss:162.430509, Train Acc:24.060%, Test Acc:46.055%\n",
      "\t Weight Saved\n",
      "Epoch3:[178514/219771(81%)]\n",
      "Epoch3:[210514/219771(96%)]\n",
      "\t Train Loss:161.940552, Test Loss:88.383499, Train Acc:45.155%, Test Acc:75.200%\n",
      "\t Weight Saved\n",
      "Complete\n",
      "Epoch1:[32000/219771(15%)]\n",
      "Epoch1:[64000/219771(29%)]\n",
      "\t Train Loss:2528.831920, Test Loss:216.557737, Train Acc:17.362%, Test Acc:22.726%\n",
      "Epoch2:[105257/219771(48%)]\n",
      "Epoch2:[137257/219771(62%)]\n",
      "\t Train Loss:211.596011, Test Loss:154.476442, Train Acc:23.800%, Test Acc:51.341%\n",
      "\t Weight Saved\n",
      "Epoch3:[178514/219771(81%)]\n",
      "Epoch3:[210514/219771(96%)]\n",
      "\t Train Loss:160.584449, Test Loss:89.549353, Train Acc:45.193%, Test Acc:73.152%\n",
      "\t Weight Saved\n",
      "Complete\n",
      "Epoch1:[32000/219771(15%)]\n",
      "Epoch1:[64000/219771(29%)]\n",
      "\t Train Loss:2529.096632, Test Loss:213.716868, Train Acc:17.306%, Test Acc:23.417%\n",
      "Epoch2:[105257/219771(48%)]\n",
      "Epoch2:[137257/219771(62%)]\n",
      "\t Train Loss:211.774533, Test Loss:193.033805, Train Acc:23.599%, Test Acc:31.634%\n",
      "\t Weight Saved\n",
      "Epoch3:[178514/219771(81%)]\n",
      "Epoch3:[210514/219771(96%)]\n",
      "\t Train Loss:162.961833, Test Loss:85.121005, Train Acc:44.523%, Test Acc:77.305%\n",
      "\t Weight Saved\n",
      "Complete\n",
      "Epoch1:[32000/219771(15%)]\n",
      "Epoch1:[64000/219771(29%)]\n",
      "\t Train Loss:2529.258474, Test Loss:216.097803, Train Acc:17.193%, Test Acc:21.961%\n",
      "Epoch2:[105257/219771(48%)]\n",
      "Epoch2:[137257/219771(62%)]\n",
      "\t Train Loss:211.309499, Test Loss:163.508912, Train Acc:23.852%, Test Acc:47.684%\n",
      "\t Weight Saved\n",
      "Epoch3:[178514/219771(81%)]\n",
      "Epoch3:[210514/219771(96%)]\n",
      "\t Train Loss:162.556602, Test Loss:83.244852, Train Acc:45.024%, Test Acc:76.414%\n",
      "\t Weight Saved\n",
      "Complete\n",
      "Epoch1:[32000/219771(15%)]\n",
      "Epoch1:[64000/219771(29%)]\n",
      "\t Train Loss:2528.697162, Test Loss:215.577078, Train Acc:17.035%, Test Acc:22.783%\n",
      "Epoch2:[105257/219771(48%)]\n",
      "Epoch2:[137257/219771(62%)]\n",
      "\t Train Loss:211.542883, Test Loss:161.638503, Train Acc:23.396%, Test Acc:43.516%\n",
      "\t Weight Saved\n",
      "Epoch3:[178514/219771(81%)]\n",
      "Epoch3:[210514/219771(96%)]\n",
      "\t Train Loss:162.463123, Test Loss:87.976414, Train Acc:44.606%, Test Acc:74.278%\n",
      "\t Weight Saved\n",
      "Complete\n"
     ]
    }
   ],
   "source": [
    "# MyVGG\n",
    "avgtime = []\n",
    "for i in range(5):\n",
    "    torch.manual_seed(1412)\n",
    "    vgg16_ = m.vgg16_bn()\n",
    "    net = MyVgg().to(device, non_blocking=True)\n",
    "    start = time()  # 计算训练时间\n",
    "    # 此时使用的是full_procedure的默认参数\n",
    "    trainloss, testloss = full_procedure(\n",
    "        net, epochs=3, bs=256, modelname=\"model_seletion_vgg\", PATH=PATH)\n",
    "    avgtime.append(time()-start)"
   ]
  },
  {
   "cell_type": "code",
   "execution_count": 50,
   "id": "154d5545",
   "metadata": {
    "ExecuteTime": {
     "end_time": "2023-01-19T19:15:33.332588Z",
     "start_time": "2023-01-19T19:15:33.221435Z"
    }
   },
   "outputs": [
    {
     "name": "stdout",
     "output_type": "stream",
     "text": [
      "93.91382303237916\n"
     ]
    }
   ],
   "source": [
    "del net\n",
    "gc.collect()\n",
    "torch.cuda.empty_cache()\n",
    "print(np.mean(avgtime))"
   ]
  },
  {
   "cell_type": "markdown",
   "id": "f4f11ef0",
   "metadata": {},
   "source": [
    "## Model Optimization"
   ]
  },
  {
   "cell_type": "markdown",
   "id": "78f1a04b",
   "metadata": {},
   "source": [
    "### Increasing iterate times"
   ]
  },
  {
   "cell_type": "code",
   "execution_count": 51,
   "id": "f4d6bc0a",
   "metadata": {
    "ExecuteTime": {
     "end_time": "2023-01-19T19:21:53.325015Z",
     "start_time": "2023-01-19T19:16:29.629561Z"
    }
   },
   "outputs": [
    {
     "name": "stdout",
     "output_type": "stream",
     "text": [
      "myResNet_test0\n",
      "Epoch1:[32000/732570(4%)]\n",
      "Epoch1:[64000/732570(9%)]\n",
      "\t Train Loss:150.559714, Test Loss:54.995851, Train Acc:48.184%, Test Acc:82.637%\n",
      "Epoch2:[105257/732570(14%)]\n",
      "Epoch2:[137257/732570(19%)]\n",
      "\t Train Loss:46.044170, Test Loss:32.469473, Train Acc:85.706%, Test Acc:90.058%\n",
      "\t Weight Saved\n",
      "Epoch3:[178514/732570(24%)]\n",
      "Epoch3:[210514/732570(29%)]\n",
      "\t Train Loss:36.169847, Test Loss:23.788594, Train Acc:88.927%, Test Acc:93.009%\n",
      "\t Weight Saved\n",
      "Epoch4:[251771/732570(34%)]\n",
      "Epoch4:[283771/732570(39%)]\n",
      "\t Train Loss:32.010849, Test Loss:22.015771, Train Acc:90.131%, Test Acc:93.742%\n",
      "\t Weight Saved\n",
      "Epoch5:[325028/732570(44%)]\n",
      "Epoch5:[357028/732570(49%)]\n",
      "\t Train Loss:29.320570, Test Loss:20.653448, Train Acc:91.165%, Test Acc:94.199%\n",
      "\t Weight Saved\n",
      "Epoch6:[398285/732570(54%)]\n",
      "Epoch6:[430285/732570(59%)]\n",
      "\t Train Loss:27.088585, Test Loss:19.320018, Train Acc:91.821%, Test Acc:94.653%\n",
      "\t Weight Saved\n",
      "Epoch7:[471542/732570(64%)]\n",
      "Epoch7:[503542/732570(69%)]\n",
      "\t Train Loss:25.694311, Test Loss:18.757133, Train Acc:92.266%, Test Acc:94.703%\n",
      "\t Weight Saved\n",
      "Epoch8:[544799/732570(74%)]\n",
      "Epoch8:[576799/732570(79%)]\n",
      "\t Train Loss:24.527914, Test Loss:18.996369, Train Acc:92.678%, Test Acc:94.818%\n",
      "\t Weight Saved\n",
      "\t NOTICE: Early stopping counter 1 of 5\n",
      "Epoch9:[618056/732570(84%)]\n",
      "Epoch9:[650056/732570(89%)]\n",
      "\t Train Loss:23.252541, Test Loss:19.968270, Train Acc:93.042%, Test Acc:94.376%\n",
      "\t NOTICE: Early stopping counter 2 of 5\n",
      "Epoch10:[691313/732570(94%)]\n",
      "Epoch10:[723313/732570(99%)]\n",
      "\t Train Loss:22.170221, Test Loss:16.568177, Train Acc:93.547%, Test Acc:95.509%\n",
      "\t Weight Saved\n",
      "Complete\n",
      "323.38861751556396\n"
     ]
    },
    {
     "data": {
      "image/png": "[encoded data removed]",
      "text/plain": [
       "<Figure size 1000x700 with 1 Axes>"
      ]
     },
     "metadata": {},
     "output_type": "display_data"
    }
   ],
   "source": [
    "# 尝试增加到10个epochs\n",
    "PATH = r\"E:\\data\\SVHN\\modelselect\\ConfirmedResNet\"\n",
    "modelname = \"myResNet_test0\"\n",
    "\n",
    "print(modelname)\n",
    "torch.manual_seed(1412)\n",
    "resnet18_ = m.resnet18()\n",
    "net = MyResNet().to(device, non_blocking=True)\n",
    "start = time()  # 计算训练时间\n",
    "trainloss, testloss = full_procedure(\n",
    "    net, epochs=10, bs=256, modelname=modelname, PATH=PATH)\n",
    "print(time()-start)\n",
    "plotloss(trainloss, testloss)"
   ]
  },
  {
   "cell_type": "code",
   "execution_count": 52,
   "id": "ba8e7a66",
   "metadata": {
    "ExecuteTime": {
     "end_time": "2023-01-19T20:08:13.743562Z",
     "start_time": "2023-01-19T19:22:46.034647Z"
    }
   },
   "outputs": [
    {
     "name": "stdout",
     "output_type": "stream",
     "text": [
      "MyResNet_test1\n",
      "Epoch1:[32000/2197710(1%)]\n",
      "Epoch1:[64000/2197710(3%)]\n",
      "\t Train Loss:149.926696, Test Loss:53.973187, Train Acc:48.326%, Test Acc:83.378%\n",
      "Epoch2:[105257/2197710(5%)]\n",
      "Epoch2:[137257/2197710(6%)]\n",
      "\t Train Loss:45.880540, Test Loss:36.002696, Train Acc:85.783%, Test Acc:88.829%\n",
      "\t Weight Saved\n",
      "Epoch3:[178514/2197710(8%)]\n",
      "Epoch3:[210514/2197710(10%)]\n",
      "\t Train Loss:36.199032, Test Loss:25.954508, Train Acc:88.942%, Test Acc:92.221%\n",
      "\t Weight Saved\n",
      "Epoch4:[251771/2197710(11%)]\n",
      "Epoch4:[283771/2197710(13%)]\n",
      "\t Train Loss:32.094479, Test Loss:21.770773, Train Acc:90.117%, Test Acc:93.769%\n",
      "\t Weight Saved\n",
      "Epoch5:[325028/2197710(15%)]\n",
      "Epoch5:[357028/2197710(16%)]\n",
      "\t Train Loss:29.411080, Test Loss:24.179911, Train Acc:91.149%, Test Acc:92.720%\n",
      "\t NOTICE: Early stopping counter 1 of 5\n",
      "Epoch6:[398285/2197710(18%)]\n",
      "Epoch6:[430285/2197710(20%)]\n",
      "\t Train Loss:27.220943, Test Loss:19.061938, Train Acc:91.831%, Test Acc:94.733%\n",
      "\t Weight Saved\n",
      "Epoch7:[471542/2197710(21%)]\n",
      "Epoch7:[503542/2197710(23%)]\n",
      "\t Train Loss:25.764319, Test Loss:19.610072, Train Acc:92.192%, Test Acc:94.499%\n",
      "\t NOTICE: Early stopping counter 1 of 5\n",
      "Epoch8:[544799/2197710(25%)]\n",
      "Epoch8:[576799/2197710(26%)]\n",
      "\t Train Loss:24.638748, Test Loss:19.003557, Train Acc:92.634%, Test Acc:94.780%\n",
      "\t Weight Saved\n",
      "Epoch9:[618056/2197710(28%)]\n",
      "Epoch9:[650056/2197710(30%)]\n",
      "\t Train Loss:23.325213, Test Loss:19.560761, Train Acc:93.015%, Test Acc:94.480%\n",
      "\t NOTICE: Early stopping counter 1 of 5\n",
      "Epoch10:[691313/2197710(31%)]\n",
      "Epoch10:[723313/2197710(33%)]\n",
      "\t Train Loss:22.199740, Test Loss:16.453707, Train Acc:93.500%, Test Acc:95.598%\n",
      "\t Weight Saved\n",
      "Epoch11:[764570/2197710(35%)]\n",
      "Epoch11:[796570/2197710(36%)]\n",
      "\t Train Loss:21.362281, Test Loss:18.450615, Train Acc:93.774%, Test Acc:94.956%\n",
      "\t NOTICE: Early stopping counter 1 of 5\n",
      "Epoch12:[837827/2197710(38%)]\n",
      "Epoch12:[869827/2197710(40%)]\n",
      "\t Train Loss:20.558532, Test Loss:17.586577, Train Acc:93.969%, Test Acc:95.152%\n",
      "\t NOTICE: Early stopping counter 2 of 5\n",
      "Epoch13:[911084/2197710(41%)]\n",
      "Epoch13:[943084/2197710(43%)]\n",
      "\t Train Loss:20.030408, Test Loss:16.151491, Train Acc:94.106%, Test Acc:95.678%\n",
      "\t Weight Saved\n",
      "Epoch14:[984341/2197710(45%)]\n",
      "Epoch14:[1016341/2197710(46%)]\n",
      "\t Train Loss:19.224165, Test Loss:16.436831, Train Acc:94.350%, Test Acc:95.563%\n",
      "\t NOTICE: Early stopping counter 1 of 5\n",
      "Epoch15:[1057598/2197710(48%)]\n",
      "Epoch15:[1089598/2197710(50%)]\n",
      "\t Train Loss:18.416653, Test Loss:16.178762, Train Acc:94.556%, Test Acc:95.536%\n",
      "\t NOTICE: Early stopping counter 2 of 5\n",
      "Epoch16:[1130855/2197710(51%)]\n",
      "Epoch16:[1162855/2197710(53%)]\n",
      "\t Train Loss:18.062671, Test Loss:16.469716, Train Acc:94.746%, Test Acc:95.582%\n",
      "\t NOTICE: Early stopping counter 3 of 5\n",
      "Epoch17:[1204112/2197710(55%)]\n",
      "Epoch17:[1236112/2197710(56%)]\n",
      "\t Train Loss:17.330245, Test Loss:15.538772, Train Acc:94.951%, Test Acc:95.790%\n",
      "\t Weight Saved\n",
      "Epoch18:[1277369/2197710(58%)]\n",
      "Epoch18:[1309369/2197710(60%)]\n",
      "\t Train Loss:16.763697, Test Loss:15.771414, Train Acc:95.098%, Test Acc:95.690%\n",
      "\t NOTICE: Early stopping counter 1 of 5\n",
      "Epoch19:[1350626/2197710(61%)]\n",
      "Epoch19:[1382626/2197710(63%)]\n",
      "\t Train Loss:16.326899, Test Loss:16.385185, Train Acc:95.195%, Test Acc:95.582%\n",
      "\t NOTICE: Early stopping counter 2 of 5\n",
      "Epoch20:[1423883/2197710(65%)]\n",
      "Epoch20:[1455883/2197710(66%)]\n",
      "\t Train Loss:15.502824, Test Loss:15.529495, Train Acc:95.438%, Test Acc:95.805%\n",
      "\t Weight Saved\n",
      "Epoch21:[1497140/2197710(68%)]\n",
      "Epoch21:[1529140/2197710(70%)]\n",
      "\t Train Loss:15.037713, Test Loss:15.267098, Train Acc:95.512%, Test Acc:96.024%\n",
      "\t Weight Saved\n",
      "Epoch22:[1570397/2197710(71%)]\n",
      "Epoch22:[1602397/2197710(73%)]\n",
      "\t Train Loss:14.628215, Test Loss:15.220396, Train Acc:95.729%, Test Acc:95.932%\n",
      "Epoch23:[1643654/2197710(75%)]\n",
      "Epoch23:[1675654/2197710(76%)]\n",
      "\t Train Loss:14.262902, Test Loss:17.066746, Train Acc:95.805%, Test Acc:95.409%\n",
      "\t NOTICE: Early stopping counter 1 of 5\n",
      "Epoch24:[1716911/2197710(78%)]\n",
      "Epoch24:[1748911/2197710(80%)]\n",
      "\t Train Loss:13.853286, Test Loss:17.530664, Train Acc:95.895%, Test Acc:95.198%\n",
      "\t NOTICE: Early stopping counter 2 of 5\n",
      "Epoch25:[1790168/2197710(81%)]\n",
      "Epoch25:[1822168/2197710(83%)]\n",
      "\t Train Loss:13.477866, Test Loss:15.440177, Train Acc:96.048%, Test Acc:95.955%\n",
      "\t NOTICE: Early stopping counter 3 of 5\n",
      "Epoch26:[1863425/2197710(85%)]\n",
      "Epoch26:[1895425/2197710(86%)]\n",
      "\t Train Loss:12.964773, Test Loss:14.632566, Train Acc:96.110%, Test Acc:96.262%\n",
      "\t Weight Saved\n",
      "Epoch27:[1936682/2197710(88%)]\n",
      "Epoch27:[1968682/2197710(90%)]\n",
      "\t Train Loss:12.260478, Test Loss:15.450308, Train Acc:96.323%, Test Acc:95.847%\n",
      "\t NOTICE: Early stopping counter 1 of 5\n",
      "Epoch28:[2009939/2197710(91%)]\n",
      "Epoch28:[2041939/2197710(93%)]\n",
      "\t Train Loss:12.116607, Test Loss:16.329449, Train Acc:96.379%, Test Acc:95.755%\n",
      "\t NOTICE: Early stopping counter 2 of 5\n",
      "Epoch29:[2083196/2197710(95%)]\n",
      "Epoch29:[2115196/2197710(96%)]\n",
      "\t Train Loss:11.795592, Test Loss:15.482279, Train Acc:96.459%, Test Acc:95.967%\n",
      "\t NOTICE: Early stopping counter 3 of 5\n",
      "Epoch30:[2156453/2197710(98%)]\n",
      "Epoch30:[2188453/2197710(100%)]\n",
      "\t Train Loss:11.284823, Test Loss:15.672578, Train Acc:96.628%, Test Acc:96.005%\n",
      "\t NOTICE: Early stopping counter 4 of 5\n",
      "Complete\n",
      "928.696207523346\n"
     ]
    },
    {
     "data": {
      "image/png": "[encoded data removed]",
      "text/plain": [
       "<Figure size 1000x700 with 1 Axes>"
      ]
     },
     "metadata": {},
     "output_type": "display_data"
    },
    {
     "name": "stdout",
     "output_type": "stream",
     "text": [
      "MyResNet_test2\n",
      "Epoch1:[32000/2197710(1%)]\n",
      "Epoch1:[64000/2197710(3%)]\n",
      "\t Train Loss:153.253136, Test Loss:48.266960, Train Acc:47.088%, Test Acc:85.187%\n",
      "Epoch2:[105257/2197710(5%)]\n",
      "Epoch2:[137257/2197710(6%)]\n",
      "\t Train Loss:46.557797, Test Loss:32.974867, Train Acc:85.519%, Test Acc:89.870%\n",
      "\t Weight Saved\n",
      "Epoch3:[178514/2197710(8%)]\n",
      "Epoch3:[210514/2197710(10%)]\n",
      "\t Train Loss:36.288870, Test Loss:24.546203, Train Acc:88.936%, Test Acc:92.751%\n",
      "\t Weight Saved\n",
      "Epoch4:[251771/2197710(11%)]\n",
      "Epoch4:[283771/2197710(13%)]\n",
      "\t Train Loss:32.032690, Test Loss:22.192799, Train Acc:90.226%, Test Acc:93.581%\n",
      "\t Weight Saved\n",
      "Epoch5:[325028/2197710(15%)]\n",
      "Epoch5:[357028/2197710(16%)]\n",
      "\t Train Loss:29.396338, Test Loss:21.386841, Train Acc:91.104%, Test Acc:93.865%\n",
      "\t Weight Saved\n",
      "Epoch6:[398285/2197710(18%)]\n",
      "Epoch6:[430285/2197710(20%)]\n",
      "\t Train Loss:27.139669, Test Loss:20.121530, Train Acc:91.911%, Test Acc:94.361%\n",
      "\t Weight Saved\n",
      "Epoch7:[471542/2197710(21%)]\n",
      "Epoch7:[503542/2197710(23%)]\n",
      "\t Train Loss:25.680150, Test Loss:18.385535, Train Acc:92.226%, Test Acc:94.818%\n",
      "\t Weight Saved\n",
      "Epoch8:[544799/2197710(25%)]\n",
      "Epoch8:[576799/2197710(26%)]\n",
      "\t Train Loss:24.484414, Test Loss:18.551086, Train Acc:92.713%, Test Acc:94.899%\n",
      "\t Weight Saved\n",
      "\t NOTICE: Early stopping counter 1 of 5\n",
      "Epoch9:[618056/2197710(28%)]\n",
      "Epoch9:[650056/2197710(30%)]\n",
      "\t Train Loss:23.175993, Test Loss:18.751544, Train Acc:93.042%, Test Acc:94.833%\n",
      "\t NOTICE: Early stopping counter 2 of 5\n",
      "Epoch10:[691313/2197710(31%)]\n",
      "Epoch10:[723313/2197710(33%)]\n",
      "\t Train Loss:22.173872, Test Loss:16.833939, Train Acc:93.448%, Test Acc:95.363%\n",
      "\t Weight Saved\n",
      "Epoch11:[764570/2197710(35%)]\n",
      "Epoch11:[796570/2197710(36%)]\n",
      "\t Train Loss:21.290918, Test Loss:17.722499, Train Acc:93.755%, Test Acc:95.033%\n",
      "\t NOTICE: Early stopping counter 1 of 5\n",
      "Epoch12:[837827/2197710(38%)]\n",
      "Epoch12:[869827/2197710(40%)]\n",
      "\t Train Loss:20.521134, Test Loss:15.596607, Train Acc:93.939%, Test Acc:95.755%\n",
      "\t Weight Saved\n",
      "Epoch13:[911084/2197710(41%)]\n",
      "Epoch13:[943084/2197710(43%)]\n",
      "\t Train Loss:19.873227, Test Loss:15.723380, Train Acc:94.100%, Test Acc:95.755%\n",
      "\t NOTICE: Early stopping counter 1 of 5\n",
      "Epoch14:[984341/2197710(45%)]\n",
      "Epoch14:[1016341/2197710(46%)]\n",
      "\t Train Loss:19.047432, Test Loss:16.653227, Train Acc:94.429%, Test Acc:95.494%\n",
      "\t NOTICE: Early stopping counter 2 of 5\n",
      "Epoch15:[1057598/2197710(48%)]\n",
      "Epoch15:[1089598/2197710(50%)]\n",
      "\t Train Loss:18.306310, Test Loss:18.504460, Train Acc:94.609%, Test Acc:94.906%\n",
      "\t NOTICE: Early stopping counter 3 of 5\n",
      "Epoch16:[1130855/2197710(51%)]\n",
      "Epoch16:[1162855/2197710(53%)]\n",
      "\t Train Loss:17.831180, Test Loss:16.375188, Train Acc:94.873%, Test Acc:95.513%\n",
      "\t NOTICE: Early stopping counter 4 of 5\n",
      "Epoch17:[1204112/2197710(55%)]\n",
      "Epoch17:[1236112/2197710(56%)]\n",
      "\t Train Loss:17.429664, Test Loss:15.132642, Train Acc:94.962%, Test Acc:95.786%\n",
      "\t Weight Saved\n",
      "Epoch18:[1277369/2197710(58%)]\n",
      "Epoch18:[1309369/2197710(60%)]\n",
      "\t Train Loss:16.701744, Test Loss:15.953159, Train Acc:95.067%, Test Acc:95.763%\n",
      "\t NOTICE: Early stopping counter 1 of 5\n",
      "Epoch19:[1350626/2197710(61%)]\n",
      "Epoch19:[1382626/2197710(63%)]\n",
      "\t Train Loss:16.168690, Test Loss:16.967041, Train Acc:95.251%, Test Acc:95.383%\n",
      "\t NOTICE: Early stopping counter 2 of 5\n",
      "Epoch20:[1423883/2197710(65%)]\n",
      "Epoch20:[1455883/2197710(66%)]\n",
      "\t Train Loss:15.413370, Test Loss:15.410202, Train Acc:95.461%, Test Acc:95.886%\n",
      "\t Weight Saved\n",
      "\t NOTICE: Early stopping counter 3 of 5\n",
      "Epoch21:[1497140/2197710(68%)]\n",
      "Epoch21:[1529140/2197710(70%)]\n",
      "\t Train Loss:14.950375, Test Loss:16.579341, Train Acc:95.632%, Test Acc:95.406%\n",
      "\t NOTICE: Early stopping counter 4 of 5\n",
      "Epoch22:[1570397/2197710(71%)]\n",
      "Epoch22:[1602397/2197710(73%)]\n",
      "\t Train Loss:14.667622, Test Loss:15.675050, Train Acc:95.678%, Test Acc:95.859%\n",
      "\t NOTICE: Early stopping counter 5 of 5\n",
      "\t NOTICE: Early Stopping Actived\n",
      "Epoch23:[1643654/2197710(75%)]\n",
      "Epoch23:[1675654/2197710(76%)]\n",
      "\t Train Loss:14.131160, Test Loss:16.649990, Train Acc:95.940%, Test Acc:95.417%\n",
      "\t NOTICE: Early stopping counter 6 of 5\n",
      "\t NOTICE: Early Stopping Actived\n",
      "Epoch24:[1716911/2197710(78%)]\n",
      "Epoch24:[1748911/2197710(80%)]\n",
      "\t Train Loss:13.732187, Test Loss:16.620653, Train Acc:95.898%, Test Acc:95.429%\n",
      "\t NOTICE: Early stopping counter 7 of 5\n",
      "\t NOTICE: Early Stopping Actived\n",
      "Epoch25:[1790168/2197710(81%)]\n",
      "Epoch25:[1822168/2197710(83%)]\n",
      "\t Train Loss:13.449460, Test Loss:16.872717, Train Acc:96.017%, Test Acc:95.609%\n",
      "\t NOTICE: Early stopping counter 8 of 5\n",
      "\t NOTICE: Early Stopping Actived\n",
      "Epoch26:[1863425/2197710(85%)]\n",
      "Epoch26:[1895425/2197710(86%)]\n",
      "\t Train Loss:12.903740, Test Loss:14.715074, Train Acc:96.198%, Test Acc:96.139%\n",
      "\t Weight Saved\n",
      "Epoch27:[1936682/2197710(88%)]\n",
      "Epoch27:[1968682/2197710(90%)]\n",
      "\t Train Loss:12.256433, Test Loss:16.005168, Train Acc:96.325%, Test Acc:95.713%\n",
      "\t NOTICE: Early stopping counter 1 of 5\n",
      "Epoch28:[2009939/2197710(91%)]\n",
      "Epoch28:[2041939/2197710(93%)]\n",
      "\t Train Loss:12.082715, Test Loss:15.471506, Train Acc:96.379%, Test Acc:96.032%\n",
      "\t NOTICE: Early stopping counter 2 of 5\n",
      "Epoch29:[2083196/2197710(95%)]\n",
      "Epoch29:[2115196/2197710(96%)]\n",
      "\t Train Loss:11.602003, Test Loss:15.218440, Train Acc:96.520%, Test Acc:96.109%\n",
      "\t NOTICE: Early stopping counter 3 of 5\n",
      "Epoch30:[2156453/2197710(98%)]\n",
      "Epoch30:[2188453/2197710(100%)]\n",
      "\t Train Loss:11.404340, Test Loss:16.370111, Train Acc:96.560%, Test Acc:95.832%\n",
      "\t NOTICE: Early stopping counter 4 of 5\n",
      "Complete\n",
      "899.3523557186127\n"
     ]
    },
    {
     "data": {
      "image/png": "[encoded data removed]",
      "text/plain": [
       "<Figure size 1000x700 with 1 Axes>"
      ]
     },
     "metadata": {},
     "output_type": "display_data"
    },
    {
     "name": "stdout",
     "output_type": "stream",
     "text": [
      "MyResNet_test3\n",
      "Epoch1:[32000/2197710(1%)]\n",
      "Epoch1:[64000/2197710(3%)]\n",
      "\t Train Loss:149.347039, Test Loss:56.677455, Train Acc:48.655%, Test Acc:82.629%\n",
      "Epoch2:[105257/2197710(5%)]\n",
      "Epoch2:[137257/2197710(6%)]\n",
      "\t Train Loss:45.897177, Test Loss:31.448583, Train Acc:85.706%, Test Acc:90.492%\n",
      "\t Weight Saved\n",
      "Epoch3:[178514/2197710(8%)]\n",
      "Epoch3:[210514/2197710(10%)]\n",
      "\t Train Loss:36.229562, Test Loss:22.463509, Train Acc:88.894%, Test Acc:93.589%\n",
      "\t Weight Saved\n",
      "Epoch4:[251771/2197710(11%)]\n",
      "Epoch4:[283771/2197710(13%)]\n",
      "\t Train Loss:32.067942, Test Loss:22.630616, Train Acc:90.256%, Test Acc:93.485%\n",
      "\t NOTICE: Early stopping counter 1 of 5\n",
      "Epoch5:[325028/2197710(15%)]\n",
      "Epoch5:[357028/2197710(16%)]\n",
      "\t Train Loss:29.532649, Test Loss:21.705053, Train Acc:90.973%, Test Acc:93.585%\n",
      "Epoch6:[398285/2197710(18%)]\n",
      "Epoch6:[430285/2197710(20%)]\n",
      "\t Train Loss:27.320445, Test Loss:18.923462, Train Acc:91.767%, Test Acc:94.745%\n",
      "\t Weight Saved\n",
      "Epoch7:[471542/2197710(21%)]\n",
      "Epoch7:[503542/2197710(23%)]\n",
      "\t Train Loss:25.870441, Test Loss:19.516982, Train Acc:92.253%, Test Acc:94.572%\n",
      "\t NOTICE: Early stopping counter 1 of 5\n",
      "Epoch8:[544799/2197710(25%)]\n",
      "Epoch8:[576799/2197710(26%)]\n",
      "\t Train Loss:24.615752, Test Loss:18.529535, Train Acc:92.646%, Test Acc:94.876%\n",
      "\t Weight Saved\n",
      "Epoch9:[618056/2197710(28%)]\n",
      "Epoch9:[650056/2197710(30%)]\n",
      "\t Train Loss:23.458325, Test Loss:19.081540, Train Acc:93.025%, Test Acc:94.657%\n",
      "\t NOTICE: Early stopping counter 1 of 5\n",
      "Epoch10:[691313/2197710(31%)]\n",
      "Epoch10:[723313/2197710(33%)]\n",
      "\t Train Loss:22.216176, Test Loss:16.871983, Train Acc:93.493%, Test Acc:95.456%\n",
      "\t Weight Saved\n",
      "Epoch11:[764570/2197710(35%)]\n",
      "Epoch11:[796570/2197710(36%)]\n",
      "\t Train Loss:21.293366, Test Loss:17.017030, Train Acc:93.650%, Test Acc:95.329%\n",
      "\t NOTICE: Early stopping counter 1 of 5\n",
      "Epoch12:[837827/2197710(38%)]\n",
      "Epoch12:[869827/2197710(40%)]\n",
      "\t Train Loss:20.560760, Test Loss:15.996568, Train Acc:93.947%, Test Acc:95.590%\n",
      "\t Weight Saved\n",
      "Epoch13:[911084/2197710(41%)]\n",
      "Epoch13:[943084/2197710(43%)]\n",
      "\t Train Loss:19.974407, Test Loss:15.651704, Train Acc:94.117%, Test Acc:95.744%\n",
      "\t Weight Saved\n",
      "Epoch14:[984341/2197710(45%)]\n",
      "Epoch14:[1016341/2197710(46%)]\n",
      "\t Train Loss:19.221854, Test Loss:15.907312, Train Acc:94.297%, Test Acc:95.609%\n",
      "\t NOTICE: Early stopping counter 1 of 5\n",
      "Epoch15:[1057598/2197710(48%)]\n",
      "Epoch15:[1089598/2197710(50%)]\n",
      "\t Train Loss:18.446239, Test Loss:17.158652, Train Acc:94.566%, Test Acc:95.221%\n",
      "\t NOTICE: Early stopping counter 2 of 5\n",
      "Epoch16:[1130855/2197710(51%)]\n",
      "Epoch16:[1162855/2197710(53%)]\n",
      "\t Train Loss:17.922229, Test Loss:16.283172, Train Acc:94.747%, Test Acc:95.613%\n",
      "\t NOTICE: Early stopping counter 3 of 5\n",
      "Epoch17:[1204112/2197710(55%)]\n",
      "Epoch17:[1236112/2197710(56%)]\n",
      "\t Train Loss:17.325182, Test Loss:16.522331, Train Acc:94.925%, Test Acc:95.363%\n",
      "\t NOTICE: Early stopping counter 4 of 5\n",
      "Epoch18:[1277369/2197710(58%)]\n",
      "Epoch18:[1309369/2197710(60%)]\n",
      "\t Train Loss:16.618557, Test Loss:15.223000, Train Acc:95.155%, Test Acc:95.863%\n",
      "\t Weight Saved\n",
      "Epoch19:[1350626/2197710(61%)]\n",
      "Epoch19:[1382626/2197710(63%)]\n",
      "\t Train Loss:16.309580, Test Loss:16.199299, Train Acc:95.247%, Test Acc:95.602%\n",
      "\t NOTICE: Early stopping counter 1 of 5\n",
      "Epoch20:[1423883/2197710(65%)]\n",
      "Epoch20:[1455883/2197710(66%)]\n",
      "\t Train Loss:15.422958, Test Loss:15.459876, Train Acc:95.519%, Test Acc:95.748%\n",
      "\t NOTICE: Early stopping counter 2 of 5\n",
      "Epoch21:[1497140/2197710(68%)]\n",
      "Epoch21:[1529140/2197710(70%)]\n",
      "\t Train Loss:15.181957, Test Loss:15.070284, Train Acc:95.534%, Test Acc:95.970%\n",
      "\t Weight Saved\n",
      "Epoch22:[1570397/2197710(71%)]\n",
      "Epoch22:[1602397/2197710(73%)]\n",
      "\t Train Loss:14.612290, Test Loss:16.203081, Train Acc:95.681%, Test Acc:95.605%\n",
      "\t NOTICE: Early stopping counter 1 of 5\n",
      "Epoch23:[1643654/2197710(75%)]\n",
      "Epoch23:[1675654/2197710(76%)]\n",
      "\t Train Loss:14.161671, Test Loss:15.827539, Train Acc:95.864%, Test Acc:95.602%\n",
      "\t NOTICE: Early stopping counter 2 of 5\n",
      "Epoch24:[1716911/2197710(78%)]\n",
      "Epoch24:[1748911/2197710(80%)]\n",
      "\t Train Loss:13.828790, Test Loss:16.970894, Train Acc:95.903%, Test Acc:95.340%\n",
      "\t NOTICE: Early stopping counter 3 of 5\n",
      "Epoch25:[1790168/2197710(81%)]\n",
      "Epoch25:[1822168/2197710(83%)]\n",
      "\t Train Loss:13.453729, Test Loss:15.134143, Train Acc:96.062%, Test Acc:96.082%\n",
      "\t Weight Saved\n",
      "\t NOTICE: Early stopping counter 4 of 5\n",
      "Epoch26:[1863425/2197710(85%)]\n",
      "Epoch26:[1895425/2197710(86%)]\n",
      "\t Train Loss:13.005592, Test Loss:14.441745, Train Acc:96.107%, Test Acc:96.243%\n",
      "\t Weight Saved\n",
      "Epoch27:[1936682/2197710(88%)]\n",
      "Epoch27:[1968682/2197710(90%)]\n",
      "\t Train Loss:12.346167, Test Loss:15.095998, Train Acc:96.399%, Test Acc:96.059%\n",
      "\t NOTICE: Early stopping counter 1 of 5\n",
      "Epoch28:[2009939/2197710(91%)]\n",
      "Epoch28:[2041939/2197710(93%)]\n",
      "\t Train Loss:12.195580, Test Loss:16.298833, Train Acc:96.441%, Test Acc:95.648%\n",
      "\t NOTICE: Early stopping counter 2 of 5\n",
      "Epoch29:[2083196/2197710(95%)]\n",
      "Epoch29:[2115196/2197710(96%)]\n",
      "\t Train Loss:11.748190, Test Loss:15.679880, Train Acc:96.553%, Test Acc:95.943%\n",
      "\t NOTICE: Early stopping counter 3 of 5\n",
      "Epoch30:[2156453/2197710(98%)]\n",
      "Epoch30:[2188453/2197710(100%)]\n",
      "\t Train Loss:11.427160, Test Loss:16.161125, Train Acc:96.621%, Test Acc:95.751%\n",
      "\t NOTICE: Early stopping counter 4 of 5\n",
      "Complete\n",
      "898.8178129196167\n"
     ]
    },
    {
     "data": {
      "image/png": "[encoded data removed]",
      "text/plain": [
       "<Figure size 1000x700 with 1 Axes>"
      ]
     },
     "metadata": {},
     "output_type": "display_data"
    }
   ],
   "source": [
    "# 调小提前停止阈值，再进行三次训练，每次30个epochs\n",
    "\n",
    "PATH = r\"E:\\data\\SVHN\\modelselect\\ConfirmedResNet\"\n",
    "\n",
    "for modelname in [\"MyResNet_test1\", \"MyResNet_test2\", \"MyResNet_test3\"]:\n",
    "    print(modelname)\n",
    "    torch.manual_seed(1412)\n",
    "    resnet18_ = m.resnet18()\n",
    "    net = MyResNet().to(device, non_blocking=True)\n",
    "    start = time()  # 计算训练时间\n",
    "    trainloss, testloss = full_procedure(\n",
    "        net, epochs=30, bs=256, modelname=modelname, PATH=PATH, tol=10**(-10))\n",
    "    print(time()-start)\n",
    "    plotloss(trainloss, testloss)"
   ]
  },
  {
   "cell_type": "markdown",
   "id": "a3f89969",
   "metadata": {},
   "source": [
    "## Based new parameters training"
   ]
  },
  {
   "cell_type": "code",
   "execution_count": 58,
   "id": "0720947f",
   "metadata": {
    "ExecuteTime": {
     "end_time": "2023-01-19T20:30:12.528101Z",
     "start_time": "2023-01-19T20:22:11.161346Z"
    }
   },
   "outputs": [
    {
     "name": "stdout",
     "output_type": "stream",
     "text": [
      "myResNet_test0_1\n",
      "Epoch1:[32000/1098855(3%)]\n",
      "Epoch1:[64000/1098855(6%)]\n",
      "\t Train Loss:153.210628, Test Loss:49.215091, Train Acc:47.212%, Test Acc:84.792%\n",
      "Epoch2:[105257/1098855(10%)]\n",
      "Epoch2:[137257/1098855(12%)]\n",
      "\t Train Loss:46.235739, Test Loss:30.660994, Train Acc:85.732%, Test Acc:90.784%\n",
      "\t Weight Saved\n",
      "Epoch3:[178514/1098855(16%)]\n",
      "Epoch3:[210514/1098855(19%)]\n",
      "\t Train Loss:36.178464, Test Loss:22.813086, Train Acc:88.917%, Test Acc:93.431%\n",
      "\t Weight Saved\n",
      "Epoch4:[251771/1098855(23%)]\n",
      "Epoch4:[283771/1098855(26%)]\n",
      "\t Train Loss:31.962888, Test Loss:22.966200, Train Acc:90.185%, Test Acc:93.347%\n",
      "\t NOTICE: Early stopping counter 1 of 5\n",
      "Epoch5:[325028/1098855(30%)]\n",
      "Epoch5:[357028/1098855(32%)]\n",
      "\t Train Loss:29.386495, Test Loss:21.311343, Train Acc:91.112%, Test Acc:93.831%\n",
      "\t Weight Saved\n",
      "Epoch6:[398285/1098855(36%)]\n",
      "Epoch6:[430285/1098855(39%)]\n",
      "\t Train Loss:27.146582, Test Loss:18.582072, Train Acc:91.851%, Test Acc:94.922%\n",
      "\t Weight Saved\n",
      "Epoch7:[471542/1098855(43%)]\n",
      "Epoch7:[503542/1098855(46%)]\n",
      "\t Train Loss:25.643369, Test Loss:19.684170, Train Acc:92.277%, Test Acc:94.503%\n",
      "\t NOTICE: Early stopping counter 1 of 5\n",
      "Epoch8:[544799/1098855(50%)]\n",
      "Epoch8:[576799/1098855(52%)]\n",
      "\t Train Loss:24.534521, Test Loss:18.831606, Train Acc:92.741%, Test Acc:94.718%\n",
      "\t NOTICE: Early stopping counter 2 of 5\n",
      "Epoch9:[618056/1098855(56%)]\n",
      "Epoch9:[650056/1098855(59%)]\n",
      "\t Train Loss:23.250932, Test Loss:17.986327, Train Acc:93.045%, Test Acc:95.171%\n",
      "\t Weight Saved\n",
      "Epoch10:[691313/1098855(63%)]\n",
      "Epoch10:[723313/1098855(66%)]\n",
      "\t Train Loss:22.014072, Test Loss:16.414579, Train Acc:93.465%, Test Acc:95.498%\n",
      "\t Weight Saved\n",
      "Epoch11:[764570/1098855(70%)]\n",
      "Epoch11:[796570/1098855(72%)]\n",
      "\t Train Loss:21.181147, Test Loss:18.063349, Train Acc:93.794%, Test Acc:94.925%\n",
      "\t NOTICE: Early stopping counter 1 of 5\n",
      "Epoch12:[837827/1098855(76%)]\n",
      "Epoch12:[869827/1098855(79%)]\n",
      "\t Train Loss:20.505984, Test Loss:17.655336, Train Acc:94.032%, Test Acc:95.045%\n",
      "\t NOTICE: Early stopping counter 2 of 5\n",
      "Epoch13:[911084/1098855(83%)]\n",
      "Epoch13:[943084/1098855(86%)]\n",
      "\t Train Loss:19.773189, Test Loss:15.887998, Train Acc:94.200%, Test Acc:95.694%\n",
      "\t Weight Saved\n",
      "Epoch14:[984341/1098855(90%)]\n",
      "Epoch14:[1016341/1098855(92%)]\n",
      "\t Train Loss:19.087888, Test Loss:15.731361, Train Acc:94.388%, Test Acc:95.709%\n",
      "\t Weight Saved\n",
      "Epoch15:[1057598/1098855(96%)]\n",
      "Epoch15:[1089598/1098855(99%)]\n",
      "\t Train Loss:18.291805, Test Loss:17.444943, Train Acc:94.620%, Test Acc:95.221%\n",
      "\t NOTICE: Early stopping counter 1 of 5\n",
      "Complete\n",
      "481.04701924324036\n"
     ]
    },
    {
     "data": {
      "image/png": "[encoded data removed]",
      "text/plain": [
       "<Figure size 1000x700 with 1 Axes>"
      ]
     },
     "metadata": {},
     "output_type": "display_data"
    }
   ],
   "source": [
    "# 先按大lr进行初期迭代，再按小lr进行后期迭代\n",
    "PATH = r\"E:\\data\\SVHN\\modelselect\\ConfirmedResNet\"\n",
    "modelname = \"myResNet_test0_1\"\n",
    "\n",
    "print(modelname)\n",
    "torch.manual_seed(1412)\n",
    "resnet18_ = m.resnet18()\n",
    "net = MyResNet().to(device, non_blocking=True)  # 完全重启，不借用任何过去训练好的参数\n",
    "start = time()  # 计算训练时间\n",
    "trainloss, testloss = full_procedure(net, epochs=15, bs=256, modelname=modelname, PATH=PATH, lr=0.001, tol=10**(-10)\n",
    "                                     )\n",
    "print(time()-start)\n",
    "plotloss(trainloss, testloss)"
   ]
  },
  {
   "cell_type": "code",
   "execution_count": 59,
   "id": "59529cfd",
   "metadata": {
    "ExecuteTime": {
     "end_time": "2023-01-19T20:50:22.085416Z",
     "start_time": "2023-01-19T20:32:18.288443Z"
    }
   },
   "outputs": [
    {
     "name": "stdout",
     "output_type": "stream",
     "text": [
      "MyResNet_retrain\n",
      "Epoch1:[16000/2197710(1%)]\n",
      "Epoch1:[32000/2197710(1%)]\n",
      "Epoch1:[48000/2197710(2%)]\n",
      "Epoch1:[64000/2197710(3%)]\n",
      "\t Train Loss:16.229377, Test Loss:13.854142, Train Acc:95.303%, Test Acc:96.401%\n",
      "Epoch2:[89257/2197710(4%)]\n",
      "Epoch2:[105257/2197710(5%)]\n",
      "Epoch2:[121257/2197710(6%)]\n",
      "Epoch2:[137257/2197710(6%)]\n",
      "\t Train Loss:15.118069, Test Loss:13.722088, Train Acc:95.718%, Test Acc:96.427%\n",
      "\t Weight Saved\n",
      "Epoch3:[162514/2197710(7%)]\n",
      "Epoch3:[178514/2197710(8%)]\n",
      "Epoch3:[194514/2197710(9%)]\n",
      "Epoch3:[210514/2197710(10%)]\n",
      "\t Train Loss:14.757919, Test Loss:13.617219, Train Acc:95.805%, Test Acc:96.404%\n",
      "Epoch4:[235771/2197710(11%)]\n",
      "Epoch4:[251771/2197710(11%)]\n",
      "Epoch4:[267771/2197710(12%)]\n",
      "Epoch4:[283771/2197710(13%)]\n",
      "\t Train Loss:14.252164, Test Loss:13.676270, Train Acc:96.003%, Test Acc:96.404%\n",
      "\t NOTICE: Early stopping counter 1 of 5\n",
      "Epoch5:[309028/2197710(14%)]\n",
      "Epoch5:[325028/2197710(15%)]\n",
      "Epoch5:[341028/2197710(16%)]\n",
      "Epoch5:[357028/2197710(16%)]\n",
      "\t Train Loss:13.847785, Test Loss:13.726091, Train Acc:96.127%, Test Acc:96.447%\n",
      "\t Weight Saved\n",
      "\t NOTICE: Early stopping counter 2 of 5\n",
      "Epoch6:[382285/2197710(17%)]\n",
      "Epoch6:[398285/2197710(18%)]\n",
      "Epoch6:[414285/2197710(19%)]\n",
      "Epoch6:[430285/2197710(20%)]\n",
      "\t Train Loss:13.471818, Test Loss:13.573494, Train Acc:96.234%, Test Acc:96.370%\n",
      "Epoch7:[455542/2197710(21%)]\n",
      "Epoch7:[471542/2197710(21%)]\n",
      "Epoch7:[487542/2197710(22%)]\n",
      "Epoch7:[503542/2197710(23%)]\n",
      "\t Train Loss:13.158446, Test Loss:13.519995, Train Acc:96.373%, Test Acc:96.420%\n",
      "Epoch8:[528799/2197710(24%)]\n",
      "Epoch8:[544799/2197710(25%)]\n",
      "Epoch8:[560799/2197710(26%)]\n",
      "Epoch8:[576799/2197710(26%)]\n",
      "\t Train Loss:12.980234, Test Loss:13.807040, Train Acc:96.400%, Test Acc:96.301%\n",
      "\t NOTICE: Early stopping counter 1 of 5\n",
      "Epoch9:[602056/2197710(27%)]\n",
      "Epoch9:[618056/2197710(28%)]\n",
      "Epoch9:[634056/2197710(29%)]\n",
      "Epoch9:[650056/2197710(30%)]\n",
      "\t Train Loss:12.617637, Test Loss:13.669461, Train Acc:96.527%, Test Acc:96.281%\n",
      "\t NOTICE: Early stopping counter 2 of 5\n",
      "Epoch10:[675313/2197710(31%)]\n",
      "Epoch10:[691313/2197710(31%)]\n",
      "Epoch10:[707313/2197710(32%)]\n",
      "Epoch10:[723313/2197710(33%)]\n",
      "\t Train Loss:12.241182, Test Loss:13.607271, Train Acc:96.676%, Test Acc:96.335%\n",
      "\t NOTICE: Early stopping counter 3 of 5\n",
      "Epoch11:[748570/2197710(34%)]\n",
      "Epoch11:[764570/2197710(35%)]\n",
      "Epoch11:[780570/2197710(36%)]\n",
      "Epoch11:[796570/2197710(36%)]\n",
      "\t Train Loss:11.858193, Test Loss:13.621908, Train Acc:96.736%, Test Acc:96.335%\n",
      "\t NOTICE: Early stopping counter 4 of 5\n",
      "Epoch12:[821827/2197710(37%)]\n",
      "Epoch12:[837827/2197710(38%)]\n",
      "Epoch12:[853827/2197710(39%)]\n",
      "Epoch12:[869827/2197710(40%)]\n",
      "\t Train Loss:11.328188, Test Loss:13.724218, Train Acc:96.926%, Test Acc:96.289%\n",
      "\t NOTICE: Early stopping counter 5 of 5\n",
      "\t NOTICE: Early Stopping Actived\n",
      "Epoch13:[895084/2197710(41%)]\n",
      "Epoch13:[911084/2197710(41%)]\n",
      "Epoch13:[927084/2197710(42%)]\n",
      "Epoch13:[943084/2197710(43%)]\n",
      "\t Train Loss:10.784676, Test Loss:13.727496, Train Acc:97.113%, Test Acc:96.297%\n",
      "\t NOTICE: Early stopping counter 6 of 5\n",
      "\t NOTICE: Early Stopping Actived\n",
      "Epoch14:[968341/2197710(44%)]\n",
      "Epoch14:[984341/2197710(45%)]\n",
      "Epoch14:[1000341/2197710(46%)]\n",
      "Epoch14:[1016341/2197710(46%)]\n",
      "\t Train Loss:9.463034, Test Loss:13.785788, Train Acc:97.653%, Test Acc:96.301%\n",
      "\t NOTICE: Early stopping counter 7 of 5\n",
      "\t NOTICE: Early Stopping Actived\n",
      "Epoch15:[1041598/2197710(47%)]\n",
      "Epoch15:[1057598/2197710(48%)]\n",
      "Epoch15:[1073598/2197710(49%)]\n",
      "Epoch15:[1089598/2197710(50%)]\n",
      "\t Train Loss:13.325154, Test Loss:13.765949, Train Acc:96.284%, Test Acc:96.293%\n",
      "\t NOTICE: Early stopping counter 8 of 5\n",
      "\t NOTICE: Early Stopping Actived\n",
      "Epoch16:[1114855/2197710(51%)]\n",
      "Epoch16:[1130855/2197710(51%)]\n",
      "Epoch16:[1146855/2197710(52%)]\n",
      "Epoch16:[1162855/2197710(53%)]\n",
      "\t Train Loss:13.271684, Test Loss:13.772558, Train Acc:96.321%, Test Acc:96.266%\n",
      "\t NOTICE: Early stopping counter 9 of 5\n",
      "\t NOTICE: Early Stopping Actived\n",
      "Epoch17:[1188112/2197710(54%)]\n",
      "Epoch17:[1204112/2197710(55%)]\n",
      "Epoch17:[1220112/2197710(56%)]\n",
      "Epoch17:[1236112/2197710(56%)]\n",
      "\t Train Loss:13.278868, Test Loss:13.796851, Train Acc:96.271%, Test Acc:96.274%\n",
      "\t NOTICE: Early stopping counter 10 of 5\n",
      "\t NOTICE: Early Stopping Actived\n",
      "Epoch18:[1261369/2197710(57%)]\n",
      "Epoch18:[1277369/2197710(58%)]\n",
      "Epoch18:[1293369/2197710(59%)]\n",
      "Epoch18:[1309369/2197710(60%)]\n",
      "\t Train Loss:13.084835, Test Loss:13.805076, Train Acc:96.273%, Test Acc:96.274%\n",
      "\t NOTICE: Early stopping counter 11 of 5\n",
      "\t NOTICE: Early Stopping Actived\n",
      "Epoch19:[1334626/2197710(61%)]\n",
      "Epoch19:[1350626/2197710(61%)]\n",
      "Epoch19:[1366626/2197710(62%)]\n",
      "Epoch19:[1382626/2197710(63%)]\n",
      "\t Train Loss:13.047079, Test Loss:13.779314, Train Acc:96.314%, Test Acc:96.274%\n",
      "\t NOTICE: Early stopping counter 12 of 5\n",
      "\t NOTICE: Early Stopping Actived\n",
      "Epoch20:[1407883/2197710(64%)]\n",
      "Epoch20:[1423883/2197710(65%)]\n",
      "Epoch20:[1439883/2197710(66%)]\n",
      "Epoch20:[1455883/2197710(66%)]\n",
      "\t Train Loss:12.721592, Test Loss:13.685336, Train Acc:96.452%, Test Acc:96.358%\n",
      "\t NOTICE: Early stopping counter 13 of 5\n",
      "\t NOTICE: Early Stopping Actived\n",
      "Epoch21:[1481140/2197710(67%)]\n",
      "Epoch21:[1497140/2197710(68%)]\n",
      "Epoch21:[1513140/2197710(69%)]\n",
      "Epoch21:[1529140/2197710(70%)]\n",
      "\t Train Loss:12.784439, Test Loss:13.752940, Train Acc:96.419%, Test Acc:96.293%\n",
      "\t NOTICE: Early stopping counter 14 of 5\n",
      "\t NOTICE: Early Stopping Actived\n",
      "Epoch22:[1554397/2197710(71%)]\n",
      "Epoch22:[1570397/2197710(71%)]\n",
      "Epoch22:[1586397/2197710(72%)]\n",
      "Epoch22:[1602397/2197710(73%)]\n",
      "\t Train Loss:12.607259, Test Loss:13.686283, Train Acc:96.489%, Test Acc:96.331%\n",
      "\t NOTICE: Early stopping counter 15 of 5\n",
      "\t NOTICE: Early Stopping Actived\n",
      "Epoch23:[1627654/2197710(74%)]\n",
      "Epoch23:[1643654/2197710(75%)]\n",
      "Epoch23:[1659654/2197710(76%)]\n",
      "Epoch23:[1675654/2197710(76%)]\n",
      "\t Train Loss:12.687311, Test Loss:13.953112, Train Acc:96.406%, Test Acc:96.255%\n",
      "\t NOTICE: Early stopping counter 16 of 5\n",
      "\t NOTICE: Early Stopping Actived\n",
      "Epoch24:[1700911/2197710(77%)]\n",
      "Epoch24:[1716911/2197710(78%)]\n",
      "Epoch24:[1732911/2197710(79%)]\n",
      "Epoch24:[1748911/2197710(80%)]\n",
      "\t Train Loss:12.636547, Test Loss:13.782276, Train Acc:96.456%, Test Acc:96.281%\n",
      "\t NOTICE: Early stopping counter 17 of 5\n",
      "\t NOTICE: Early Stopping Actived\n",
      "Epoch25:[1774168/2197710(81%)]\n",
      "Epoch25:[1790168/2197710(81%)]\n",
      "Epoch25:[1806168/2197710(82%)]\n",
      "Epoch25:[1822168/2197710(83%)]\n",
      "\t Train Loss:12.841164, Test Loss:13.672301, Train Acc:96.406%, Test Acc:96.331%\n",
      "\t NOTICE: Early stopping counter 18 of 5\n",
      "\t NOTICE: Early Stopping Actived\n",
      "Epoch26:[1847425/2197710(84%)]\n",
      "Epoch26:[1863425/2197710(85%)]\n",
      "Epoch26:[1879425/2197710(86%)]\n",
      "Epoch26:[1895425/2197710(86%)]\n",
      "\t Train Loss:12.621981, Test Loss:13.793140, Train Acc:96.424%, Test Acc:96.305%\n",
      "\t NOTICE: Early stopping counter 19 of 5\n",
      "\t NOTICE: Early Stopping Actived\n",
      "Epoch27:[1920682/2197710(87%)]\n",
      "Epoch27:[1936682/2197710(88%)]\n",
      "Epoch27:[1952682/2197710(89%)]\n",
      "Epoch27:[1968682/2197710(90%)]\n",
      "\t Train Loss:12.388146, Test Loss:13.749255, Train Acc:96.497%, Test Acc:96.320%\n",
      "\t NOTICE: Early stopping counter 20 of 5\n",
      "\t NOTICE: Early Stopping Actived\n",
      "Epoch28:[1993939/2197710(91%)]\n",
      "Epoch28:[2009939/2197710(91%)]\n",
      "Epoch28:[2025939/2197710(92%)]\n",
      "Epoch28:[2041939/2197710(93%)]\n",
      "\t Train Loss:12.637662, Test Loss:13.726507, Train Acc:96.454%, Test Acc:96.343%\n",
      "\t NOTICE: Early stopping counter 21 of 5\n",
      "\t NOTICE: Early Stopping Actived\n",
      "Epoch29:[2067196/2197710(94%)]\n",
      "Epoch29:[2083196/2197710(95%)]\n",
      "Epoch29:[2099196/2197710(96%)]\n",
      "Epoch29:[2115196/2197710(96%)]\n",
      "\t Train Loss:12.580749, Test Loss:13.697755, Train Acc:96.443%, Test Acc:96.358%\n",
      "\t NOTICE: Early stopping counter 22 of 5\n",
      "\t NOTICE: Early Stopping Actived\n",
      "Epoch30:[2140453/2197710(97%)]\n",
      "Epoch30:[2156453/2197710(98%)]\n",
      "Epoch30:[2172453/2197710(99%)]\n",
      "Epoch30:[2188453/2197710(100%)]\n",
      "\t Train Loss:12.350135, Test Loss:13.790455, Train Acc:96.503%, Test Acc:96.305%\n",
      "\t NOTICE: Early stopping counter 23 of 5\n",
      "\t NOTICE: Early Stopping Actived\n",
      "Complete\n",
      "1083.491869211197\n"
     ]
    },
    {
     "data": {
      "image/png": "[encoded data removed]",
      "text/plain": [
       "<Figure size 1000x700 with 1 Axes>"
      ]
     },
     "metadata": {},
     "output_type": "display_data"
    }
   ],
   "source": [
    "modelname = \"MyResNet_retrain\"\n",
    "\n",
    "torch.manual_seed(1412)\n",
    "resnet18_ = m.resnet18()\n",
    "net.load_state_dict(torch.load(\n",
    "    r\"E:\\data\\SVHN\\modelselect\\ConfirmedResNet\\myResNet_test0_1.pt\"))\n",
    "\n",
    "print(modelname)\n",
    "torch.manual_seed(1412)\n",
    "net = net.to(device, non_blocking=True)\n",
    "start = time()  # 计算训练时间\n",
    "trainloss, testloss = full_procedure(net, epochs=30, bs=128  # 令batch_size下降一半\n",
    "                                     , modelname=modelname, PATH=PATH, lr=0.00001, gamma=0.0001, tol=10**(-10), wd=0.00005)  # wd非常敏感，因此要小心地进行调整\n",
    "print(time()-start)\n",
    "plotloss(trainloss, testloss)"
   ]
  },
  {
   "cell_type": "markdown",
   "id": "b469a974",
   "metadata": {},
   "source": [
    "## Update Model"
   ]
  },
  {
   "cell_type": "markdown",
   "id": "85533b11",
   "metadata": {},
   "source": [
    "### redefine model"
   ]
  },
  {
   "cell_type": "code",
   "execution_count": 60,
   "id": "1d017514",
   "metadata": {
    "ExecuteTime": {
     "end_time": "2023-01-19T21:10:13.411534Z",
     "start_time": "2023-01-19T21:10:13.209440Z"
    }
   },
   "outputs": [
    {
     "data": {
      "text/plain": [
       "==========================================================================================\n",
       "Layer (type:depth-idx)                   Output Shape              Param #\n",
       "==========================================================================================\n",
       "MyResNet2                                [10, 10]                  --\n",
       "├─Sequential: 1-1                        [10, 64, 28, 28]          --\n",
       "│    └─Conv2d: 2-1                       [10, 64, 28, 28]          1,728\n",
       "│    └─BatchNorm2d: 2-2                  [10, 64, 28, 28]          128\n",
       "│    └─ReLU: 2-3                         [10, 64, 28, 28]          --\n",
       "├─Sequential: 1-2                        [10, 128, 14, 14]         --\n",
       "│    └─BasicBlock: 2-4                   [10, 128, 14, 14]         230,144\n",
       "│    └─BasicBlock: 2-5                   [10, 128, 14, 14]         295,424\n",
       "├─Sequential: 1-3                        [10, 256, 7, 7]           --\n",
       "│    └─BasicBlock: 2-6                   [10, 256, 7, 7]           919,040\n",
       "│    └─BasicBlock: 2-7                   [10, 256, 7, 7]           1,180,672\n",
       "├─Sequential: 1-4                        [10, 512, 4, 4]           --\n",
       "│    └─BasicBlock: 2-8                   [10, 512, 4, 4]           3,673,088\n",
       "│    └─BasicBlock: 2-9                   [10, 512, 4, 4]           4,720,640\n",
       "├─AdaptiveAvgPool2d: 1-5                 [10, 512, 1, 1]           --\n",
       "├─Linear: 1-6                            [10, 10]                  5,130\n",
       "==========================================================================================\n",
       "Total params: 11,025,994\n",
       "Trainable params: 11,025,994\n",
       "Non-trainable params: 0\n",
       "Total mult-adds (G): 3.41\n",
       "==========================================================================================\n",
       "Input size (MB): 0.09\n",
       "Forward/backward pass size (MB): 44.69\n",
       "Params size (MB): 44.10\n",
       "Estimated Total Size (MB): 88.89\n",
       "=========================================================================================="
      ]
     },
     "execution_count": 60,
     "metadata": {},
     "output_type": "execute_result"
    }
   ],
   "source": [
    "class MyResNet2(nn.Module):\n",
    "    def __init__(self):\n",
    "        super().__init__()\n",
    "\n",
    "        self.block1 = nn.Sequential(nn.Conv2d(\n",
    "            3, 64, kernel_size=3, stride=1, padding=1, bias=False), resnet18_.bn1, resnet18_.relu)\n",
    "\n",
    "        self.block2 = resnet18_.layer2\n",
    "        self.block3 = resnet18_.layer3\n",
    "        self.block4 = resnet18_.layer4  # 其他地方都不变，但增加原始残差网络中的layer4\n",
    "        self.avgpool = resnet18_.avgpool\n",
    "        self.fc = nn.Linear(in_features=512, out_features=10, bias=True)\n",
    "\n",
    "    def forward(self, x):\n",
    "        x = self.block1(x)\n",
    "        x = self.block2(x)\n",
    "        x = self.block3(x)\n",
    "        x = self.block4(x)\n",
    "        x = self.avgpool(x)\n",
    "        x = x.view(x.shape[0], 512)  # 512个输出\n",
    "        x = self.fc(x)\n",
    "        return x\n",
    "\n",
    "\n",
    "torch.manual_seed(1412)\n",
    "resnet18_ = m.resnet18()\n",
    "net2 = MyResNet2()\n",
    "\n",
    "summary(net2, (10, 3, 28, 28), depth=2, device=\"cpu\")"
   ]
  },
  {
   "cell_type": "markdown",
   "id": "f4809365",
   "metadata": {},
   "source": [
    "### Iterate on the new architecture by large lr first, then by small lr"
   ]
  },
  {
   "cell_type": "code",
   "execution_count": 61,
   "id": "6a9383fa",
   "metadata": {
    "ExecuteTime": {
     "end_time": "2023-01-19T21:27:14.508279Z",
     "start_time": "2023-01-19T21:10:16.462491Z"
    }
   },
   "outputs": [
    {
     "name": "stdout",
     "output_type": "stream",
     "text": [
      "MyResNet2_test1\n",
      "Epoch1:[32000/2197710(1%)]\n",
      "Epoch1:[64000/2197710(3%)]\n",
      "\t Train Loss:153.147112, Test Loss:47.148284, Train Acc:47.677%, Test Acc:85.322%\n",
      "Epoch2:[105257/2197710(5%)]\n",
      "Epoch2:[137257/2197710(6%)]\n",
      "\t Train Loss:46.598148, Test Loss:30.768072, Train Acc:85.322%, Test Acc:90.631%\n",
      "\t Weight Saved\n",
      "Epoch3:[178514/2197710(8%)]\n",
      "Epoch3:[210514/2197710(10%)]\n",
      "\t Train Loss:36.946282, Test Loss:23.047821, Train Acc:88.606%, Test Acc:93.539%\n",
      "\t Weight Saved\n",
      "Epoch4:[251771/2197710(11%)]\n",
      "Epoch4:[283771/2197710(13%)]\n",
      "\t Train Loss:32.602581, Test Loss:21.548316, Train Acc:89.997%, Test Acc:93.896%\n",
      "\t Weight Saved\n",
      "Epoch5:[325028/2197710(15%)]\n",
      "Epoch5:[357028/2197710(16%)]\n",
      "\t Train Loss:30.107696, Test Loss:20.089305, Train Acc:90.846%, Test Acc:94.376%\n",
      "\t Weight Saved\n",
      "Epoch6:[398285/2197710(18%)]\n",
      "Epoch6:[430285/2197710(20%)]\n",
      "\t Train Loss:27.600279, Test Loss:21.085702, Train Acc:91.668%, Test Acc:94.253%\n",
      "\t NOTICE: Early stopping counter 1 of 5\n",
      "Epoch7:[471542/2197710(21%)]\n",
      "Epoch7:[503542/2197710(23%)]\n",
      "\t Train Loss:25.985184, Test Loss:20.466198, Train Acc:92.171%, Test Acc:94.188%\n",
      "\t NOTICE: Early stopping counter 2 of 5\n",
      "Epoch8:[544799/2197710(25%)]\n",
      "Epoch8:[576799/2197710(26%)]\n",
      "\t Train Loss:24.886823, Test Loss:20.634472, Train Acc:92.596%, Test Acc:94.307%\n",
      "\t NOTICE: Early stopping counter 3 of 5\n",
      "Epoch9:[618056/2197710(28%)]\n",
      "Epoch9:[650056/2197710(30%)]\n",
      "\t Train Loss:23.480816, Test Loss:17.423248, Train Acc:92.900%, Test Acc:95.237%\n",
      "\t Weight Saved\n",
      "Epoch10:[691313/2197710(31%)]\n",
      "Epoch10:[723313/2197710(33%)]\n",
      "\t Train Loss:22.348081, Test Loss:17.619660, Train Acc:93.384%, Test Acc:95.202%\n",
      "\t NOTICE: Early stopping counter 1 of 5\n",
      "Epoch11:[764570/2197710(35%)]\n",
      "Epoch11:[796570/2197710(36%)]\n",
      "\t Train Loss:21.230702, Test Loss:18.225545, Train Acc:93.703%, Test Acc:95.125%\n",
      "\t NOTICE: Early stopping counter 2 of 5\n",
      "Epoch12:[837827/2197710(38%)]\n",
      "Epoch12:[869827/2197710(40%)]\n",
      "\t Train Loss:20.572263, Test Loss:16.471745, Train Acc:93.919%, Test Acc:95.579%\n",
      "\t Weight Saved\n",
      "Epoch13:[911084/2197710(41%)]\n",
      "Epoch13:[943084/2197710(43%)]\n",
      "\t Train Loss:19.741861, Test Loss:16.513324, Train Acc:94.149%, Test Acc:95.548%\n",
      "\t NOTICE: Early stopping counter 1 of 5\n",
      "Epoch14:[984341/2197710(45%)]\n",
      "Epoch14:[1016341/2197710(46%)]\n",
      "\t Train Loss:18.974018, Test Loss:14.990851, Train Acc:94.401%, Test Acc:95.997%\n",
      "\t Weight Saved\n",
      "Epoch15:[1057598/2197710(48%)]\n",
      "Epoch15:[1089598/2197710(50%)]\n",
      "\t Train Loss:18.152144, Test Loss:17.880018, Train Acc:94.605%, Test Acc:95.148%\n",
      "\t NOTICE: Early stopping counter 1 of 5\n",
      "Epoch16:[1130855/2197710(51%)]\n",
      "Epoch16:[1162855/2197710(53%)]\n",
      "\t Train Loss:17.636833, Test Loss:15.092600, Train Acc:94.799%, Test Acc:95.882%\n",
      "\t NOTICE: Early stopping counter 2 of 5\n",
      "Epoch17:[1204112/2197710(55%)]\n",
      "Epoch17:[1236112/2197710(56%)]\n",
      "\t Train Loss:16.992095, Test Loss:15.435684, Train Acc:95.060%, Test Acc:95.851%\n",
      "\t NOTICE: Early stopping counter 3 of 5\n",
      "Epoch18:[1277369/2197710(58%)]\n",
      "Epoch18:[1309369/2197710(60%)]\n",
      "\t Train Loss:16.492472, Test Loss:16.521013, Train Acc:95.222%, Test Acc:95.575%\n",
      "\t NOTICE: Early stopping counter 4 of 5\n",
      "Epoch19:[1350626/2197710(61%)]\n",
      "Epoch19:[1382626/2197710(63%)]\n",
      "\t Train Loss:15.869538, Test Loss:16.045852, Train Acc:95.300%, Test Acc:95.894%\n",
      "\t NOTICE: Early stopping counter 5 of 5\n",
      "\t NOTICE: Early Stopping Actived\n",
      "Epoch20:[1423883/2197710(65%)]\n",
      "Epoch20:[1455883/2197710(66%)]\n",
      "\t Train Loss:15.022203, Test Loss:15.421144, Train Acc:95.519%, Test Acc:95.924%\n",
      "\t NOTICE: Early stopping counter 6 of 5\n",
      "\t NOTICE: Early Stopping Actived\n",
      "Epoch21:[1497140/2197710(68%)]\n",
      "Epoch21:[1529140/2197710(70%)]\n",
      "\t Train Loss:14.704390, Test Loss:14.915303, Train Acc:95.753%, Test Acc:96.063%\n",
      "\t Weight Saved\n",
      "Epoch22:[1570397/2197710(71%)]\n",
      "Epoch22:[1602397/2197710(73%)]\n",
      "\t Train Loss:14.373818, Test Loss:16.681188, Train Acc:95.692%, Test Acc:95.678%\n",
      "\t NOTICE: Early stopping counter 1 of 5\n",
      "Epoch23:[1643654/2197710(75%)]\n",
      "Epoch23:[1675654/2197710(76%)]\n",
      "\t Train Loss:13.698717, Test Loss:16.935833, Train Acc:95.991%, Test Acc:95.490%\n",
      "\t NOTICE: Early stopping counter 2 of 5\n",
      "Epoch24:[1716911/2197710(78%)]\n",
      "Epoch24:[1748911/2197710(80%)]\n",
      "\t Train Loss:13.436865, Test Loss:15.976544, Train Acc:96.111%, Test Acc:95.705%\n",
      "\t NOTICE: Early stopping counter 3 of 5\n",
      "Epoch25:[1790168/2197710(81%)]\n",
      "Epoch25:[1822168/2197710(83%)]\n",
      "\t Train Loss:13.118982, Test Loss:15.050164, Train Acc:96.196%, Test Acc:96.116%\n",
      "\t Weight Saved\n",
      "\t NOTICE: Early stopping counter 4 of 5\n",
      "Epoch26:[1863425/2197710(85%)]\n",
      "Epoch26:[1895425/2197710(86%)]\n",
      "\t Train Loss:12.490724, Test Loss:14.410907, Train Acc:96.293%, Test Acc:96.378%\n",
      "\t Weight Saved\n",
      "Epoch27:[1936682/2197710(88%)]\n",
      "Epoch27:[1968682/2197710(90%)]\n",
      "\t Train Loss:12.077766, Test Loss:15.149189, Train Acc:96.357%, Test Acc:96.136%\n",
      "\t NOTICE: Early stopping counter 1 of 5\n",
      "Epoch28:[2009939/2197710(91%)]\n",
      "Epoch28:[2041939/2197710(93%)]\n",
      "\t Train Loss:11.858158, Test Loss:15.035518, Train Acc:96.484%, Test Acc:96.308%\n",
      "\t NOTICE: Early stopping counter 2 of 5\n",
      "Epoch29:[2083196/2197710(95%)]\n",
      "Epoch29:[2115196/2197710(96%)]\n",
      "\t Train Loss:11.195799, Test Loss:16.113284, Train Acc:96.623%, Test Acc:95.724%\n",
      "\t NOTICE: Early stopping counter 3 of 5\n",
      "Epoch30:[2156453/2197710(98%)]\n",
      "Epoch30:[2188453/2197710(100%)]\n",
      "\t Train Loss:10.856052, Test Loss:16.599546, Train Acc:96.822%, Test Acc:95.859%\n",
      "\t NOTICE: Early stopping counter 4 of 5\n",
      "Complete\n",
      "1017.745272397995\n"
     ]
    },
    {
     "data": {
      "image/png": "[encoded data removed]",
      "text/plain": [
       "<Figure size 1000x700 with 1 Axes>"
      ]
     },
     "metadata": {},
     "output_type": "display_data"
    }
   ],
   "source": [
    "modelname = \"MyResNet2_test1\"\n",
    "\n",
    "print(modelname)\n",
    "torch.manual_seed(1412)\n",
    "resnet18_ = m.resnet18()\n",
    "net2 = MyResNet2().to(device, non_blocking=True)\n",
    "start = time()  # 计算训练时间\n",
    "trainloss, testloss = full_procedure(\n",
    "    net2, epochs=30, bs=256, modelname=modelname, PATH=PATH, tol=10**(-10))\n",
    "print(time()-start)\n",
    "plotloss(trainloss, testloss)"
   ]
  },
  {
   "cell_type": "code",
   "execution_count": 62,
   "id": "36e94098",
   "metadata": {
    "ExecuteTime": {
     "end_time": "2023-01-19T21:44:20.197434Z",
     "start_time": "2023-01-19T21:27:28.200402Z"
    }
   },
   "outputs": [
    {
     "name": "stdout",
     "output_type": "stream",
     "text": [
      "Epoch1:[32000/2197710(1%)]\n",
      "Epoch1:[64000/2197710(3%)]\n",
      "\t Train Loss:7.790161, Test Loss:14.023543, Train Acc:97.738%, Test Acc:96.512%\n",
      "Epoch2:[105257/2197710(5%)]\n",
      "Epoch2:[137257/2197710(6%)]\n",
      "\t Train Loss:6.687998, Test Loss:14.488613, Train Acc:98.067%, Test Acc:96.435%\n",
      "\t NOTICE: Early stopping counter 1 of 5\n",
      "Epoch3:[178514/2197710(8%)]\n",
      "Epoch3:[210514/2197710(10%)]\n",
      "\t Train Loss:6.307936, Test Loss:14.674967, Train Acc:98.215%, Test Acc:96.389%\n",
      "\t NOTICE: Early stopping counter 2 of 5\n",
      "Epoch4:[251771/2197710(11%)]\n",
      "Epoch4:[283771/2197710(13%)]\n",
      "\t Train Loss:6.064383, Test Loss:14.598988, Train Acc:98.253%, Test Acc:96.547%\n",
      "\t Weight Saved\n",
      "\t NOTICE: Early stopping counter 3 of 5\n",
      "Epoch5:[325028/2197710(15%)]\n",
      "Epoch5:[357028/2197710(16%)]\n",
      "\t Train Loss:5.612368, Test Loss:15.250778, Train Acc:98.354%, Test Acc:96.431%\n",
      "\t NOTICE: Early stopping counter 4 of 5\n",
      "Epoch6:[398285/2197710(18%)]\n",
      "Epoch6:[430285/2197710(20%)]\n",
      "\t Train Loss:5.223732, Test Loss:15.141587, Train Acc:98.441%, Test Acc:96.516%\n",
      "\t NOTICE: Early stopping counter 5 of 5\n",
      "\t NOTICE: Early Stopping Actived\n",
      "Epoch7:[471542/2197710(21%)]\n",
      "Epoch7:[503542/2197710(23%)]\n",
      "\t Train Loss:5.196344, Test Loss:15.462750, Train Acc:98.479%, Test Acc:96.554%\n",
      "\t Weight Saved\n",
      "\t NOTICE: Early stopping counter 6 of 5\n",
      "\t NOTICE: Early Stopping Actived\n",
      "Epoch8:[544799/2197710(25%)]\n",
      "Epoch8:[576799/2197710(26%)]\n",
      "\t Train Loss:4.994766, Test Loss:15.941805, Train Acc:98.538%, Test Acc:96.424%\n",
      "\t NOTICE: Early stopping counter 7 of 5\n",
      "\t NOTICE: Early Stopping Actived\n",
      "Epoch9:[618056/2197710(28%)]\n",
      "Epoch9:[650056/2197710(30%)]\n",
      "\t Train Loss:4.762768, Test Loss:16.205669, Train Acc:98.598%, Test Acc:96.351%\n",
      "\t NOTICE: Early stopping counter 8 of 5\n",
      "\t NOTICE: Early Stopping Actived\n",
      "Epoch10:[691313/2197710(31%)]\n",
      "Epoch10:[723313/2197710(33%)]\n",
      "\t Train Loss:4.383974, Test Loss:16.356237, Train Acc:98.751%, Test Acc:96.339%\n",
      "\t NOTICE: Early stopping counter 9 of 5\n",
      "\t NOTICE: Early Stopping Actived\n",
      "Epoch11:[764570/2197710(35%)]\n",
      "Epoch11:[796570/2197710(36%)]\n",
      "\t Train Loss:4.328937, Test Loss:16.462300, Train Acc:98.762%, Test Acc:96.431%\n",
      "\t NOTICE: Early stopping counter 10 of 5\n",
      "\t NOTICE: Early Stopping Actived\n",
      "Epoch12:[837827/2197710(38%)]\n",
      "Epoch12:[869827/2197710(40%)]\n",
      "\t Train Loss:4.028262, Test Loss:16.650614, Train Acc:98.834%, Test Acc:96.370%\n",
      "\t NOTICE: Early stopping counter 11 of 5\n",
      "\t NOTICE: Early Stopping Actived\n",
      "Epoch13:[911084/2197710(41%)]\n",
      "Epoch13:[943084/2197710(43%)]\n",
      "\t Train Loss:3.959831, Test Loss:16.372395, Train Acc:98.840%, Test Acc:96.458%\n",
      "\t NOTICE: Early stopping counter 12 of 5\n",
      "\t NOTICE: Early Stopping Actived\n",
      "Epoch14:[984341/2197710(45%)]\n",
      "Epoch14:[1016341/2197710(46%)]\n",
      "\t Train Loss:3.721747, Test Loss:16.966057, Train Acc:98.927%, Test Acc:96.366%\n",
      "\t NOTICE: Early stopping counter 13 of 5\n",
      "\t NOTICE: Early Stopping Actived\n",
      "Epoch15:[1057598/2197710(48%)]\n",
      "Epoch15:[1089598/2197710(50%)]\n",
      "\t Train Loss:3.545246, Test Loss:16.907043, Train Acc:98.988%, Test Acc:96.370%\n",
      "\t NOTICE: Early stopping counter 14 of 5\n",
      "\t NOTICE: Early Stopping Actived\n",
      "Epoch16:[1130855/2197710(51%)]\n",
      "Epoch16:[1162855/2197710(53%)]\n",
      "\t Train Loss:3.359226, Test Loss:17.399225, Train Acc:98.987%, Test Acc:96.205%\n",
      "\t NOTICE: Early stopping counter 15 of 5\n",
      "\t NOTICE: Early Stopping Actived\n",
      "Epoch17:[1204112/2197710(55%)]\n",
      "Epoch17:[1236112/2197710(56%)]\n",
      "\t Train Loss:3.159203, Test Loss:17.612221, Train Acc:99.109%, Test Acc:96.308%\n",
      "\t NOTICE: Early stopping counter 16 of 5\n",
      "\t NOTICE: Early Stopping Actived\n",
      "Epoch18:[1277369/2197710(58%)]\n",
      "Epoch18:[1309369/2197710(60%)]\n",
      "\t Train Loss:3.101100, Test Loss:18.287187, Train Acc:99.109%, Test Acc:96.285%\n",
      "\t NOTICE: Early stopping counter 17 of 5\n",
      "\t NOTICE: Early Stopping Actived\n",
      "Epoch19:[1350626/2197710(61%)]\n",
      "Epoch19:[1382626/2197710(63%)]\n",
      "\t Train Loss:2.924046, Test Loss:18.330658, Train Acc:99.140%, Test Acc:96.255%\n",
      "\t NOTICE: Early stopping counter 18 of 5\n",
      "\t NOTICE: Early Stopping Actived\n",
      "Epoch20:[1423883/2197710(65%)]\n",
      "Epoch20:[1455883/2197710(66%)]\n",
      "\t Train Loss:2.628212, Test Loss:18.168360, Train Acc:99.207%, Test Acc:96.420%\n",
      "\t NOTICE: Early stopping counter 19 of 5\n",
      "\t NOTICE: Early Stopping Actived\n",
      "Epoch21:[1497140/2197710(68%)]\n",
      "Epoch21:[1529140/2197710(70%)]\n",
      "\t Train Loss:2.536344, Test Loss:18.566385, Train Acc:99.249%, Test Acc:96.347%\n",
      "\t NOTICE: Early stopping counter 20 of 5\n",
      "\t NOTICE: Early Stopping Actived\n",
      "Epoch22:[1570397/2197710(71%)]\n",
      "Epoch22:[1602397/2197710(73%)]\n",
      "\t Train Loss:2.351213, Test Loss:18.354494, Train Acc:99.302%, Test Acc:96.404%\n",
      "\t NOTICE: Early stopping counter 21 of 5\n",
      "\t NOTICE: Early Stopping Actived\n",
      "Epoch23:[1643654/2197710(75%)]\n",
      "Epoch23:[1675654/2197710(76%)]\n",
      "\t Train Loss:2.234235, Test Loss:19.069228, Train Acc:99.342%, Test Acc:96.370%\n",
      "\t NOTICE: Early stopping counter 22 of 5\n",
      "\t NOTICE: Early Stopping Actived\n",
      "Epoch24:[1716911/2197710(78%)]\n",
      "Epoch24:[1748911/2197710(80%)]\n",
      "\t Train Loss:2.170405, Test Loss:19.126767, Train Acc:99.360%, Test Acc:96.393%\n",
      "\t NOTICE: Early stopping counter 23 of 5\n",
      "\t NOTICE: Early Stopping Actived\n",
      "Epoch25:[1790168/2197710(81%)]\n",
      "Epoch25:[1822168/2197710(83%)]\n",
      "\t Train Loss:2.054710, Test Loss:19.124885, Train Acc:99.393%, Test Acc:96.381%\n",
      "\t NOTICE: Early stopping counter 24 of 5\n",
      "\t NOTICE: Early Stopping Actived\n",
      "Epoch26:[1863425/2197710(85%)]\n",
      "Epoch26:[1895425/2197710(86%)]\n",
      "\t Train Loss:1.749363, Test Loss:18.808983, Train Acc:99.511%, Test Acc:96.416%\n",
      "\t NOTICE: Early stopping counter 25 of 5\n",
      "\t NOTICE: Early Stopping Actived\n",
      "Epoch27:[1936682/2197710(88%)]\n",
      "Epoch27:[1968682/2197710(90%)]\n",
      "\t Train Loss:1.581193, Test Loss:19.260393, Train Acc:99.548%, Test Acc:96.397%\n",
      "\t NOTICE: Early stopping counter 26 of 5\n",
      "\t NOTICE: Early Stopping Actived\n",
      "Epoch28:[2009939/2197710(91%)]\n",
      "Epoch28:[2041939/2197710(93%)]\n",
      "\t Train Loss:1.420082, Test Loss:19.949692, Train Acc:99.588%, Test Acc:96.385%\n",
      "\t NOTICE: Early stopping counter 27 of 5\n",
      "\t NOTICE: Early Stopping Actived\n",
      "Epoch29:[2083196/2197710(95%)]\n",
      "Epoch29:[2115196/2197710(96%)]\n",
      "\t Train Loss:1.133884, Test Loss:20.445154, Train Acc:99.676%, Test Acc:96.293%\n",
      "\t NOTICE: Early stopping counter 28 of 5\n",
      "\t NOTICE: Early Stopping Actived\n",
      "Epoch30:[2156453/2197710(98%)]\n",
      "Epoch30:[2188453/2197710(100%)]\n",
      "\t Train Loss:1.024206, Test Loss:20.831201, Train Acc:99.700%, Test Acc:96.251%\n",
      "\t NOTICE: Early stopping counter 29 of 5\n",
      "\t NOTICE: Early Stopping Actived\n",
      "Complete\n",
      "1011.8513255119324\n"
     ]
    },
    {
     "data": {
      "image/png": "[encoded data removed]",
      "text/plain": [
       "<Figure size 1000x700 with 1 Axes>"
      ]
     },
     "metadata": {},
     "output_type": "display_data"
    }
   ],
   "source": [
    "modelname = \"MyResNet2_test2\"\n",
    "\n",
    "start = time()  # 计算训练时间\n",
    "trainloss, testloss = full_procedure(\n",
    "    net2, epochs=30, bs=256, modelname=modelname, PATH=PATH, tol=10**(-10), lr=0.0001)\n",
    "print(time()-start)\n",
    "plotloss(trainloss, testloss)"
   ]
  },
  {
   "cell_type": "code",
   "execution_count": null,
   "id": "c7ca5449",
   "metadata": {},
   "outputs": [],
   "source": []
  }
 ],
 "metadata": {
  "kernelspec": {
   "display_name": "Python 3 (ipykernel)",
   "language": "python",
   "name": "python3"
  },
  "language_info": {
   "codemirror_mode": {
    "name": "ipython",
    "version": 3
   },
   "file_extension": ".py",
   "mimetype": "text/x-python",
   "name": "python",
   "nbconvert_exporter": "python",
   "pygments_lexer": "ipython3",
   "version": "3.8.5"
  },
  "toc": {
   "base_numbering": 1,
   "nav_menu": {},
   "number_sections": true,
   "sideBar": true,
   "skip_h1_title": false,
   "title_cell": "Table of Contents",
   "title_sidebar": "Contents",
   "toc_cell": false,
   "toc_position": {},
   "toc_section_display": true,
   "toc_window_display": false
  },
  "varInspector": {
   "cols": {
    "lenName": 16,
    "lenType": 16,
    "lenVar": 40
   },
   "kernels_config": {
    "python": {
     "delete_cmd_postfix": "",
     "delete_cmd_prefix": "del ",
     "library": "var_list.py",
     "varRefreshCmd": "print(var_dic_list())"
    },
    "r": {
     "delete_cmd_postfix": ") ",
     "delete_cmd_prefix": "rm(",
     "library": "var_list.r",
     "varRefreshCmd": "cat(var_dic_list()) "
    }
   },
   "types_to_exclude": [
    "module",
    "function",
    "builtin_function_or_method",
    "instance",
    "_Feature"
   ],
   "window_display": false
  }
 },
 "nbformat": 4,
 "nbformat_minor": 5
}
